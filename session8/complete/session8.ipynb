{
 "cells": [
  {
   "cell_type": "code",
   "execution_count": 1,
   "id": "78941a24",
   "metadata": {},
   "outputs": [],
   "source": [
    "############## PLEASE RUN THIS CELL FIRST! ###################\n",
    "\n",
    "# import everything and define a test runner function\n",
    "from importlib import reload\n",
    "from helper import run\n",
    "import network, block"
   ]
  },
  {
   "cell_type": "markdown",
   "id": "35fbc0d2",
   "metadata": {},
   "source": [
    "### Exercise 1\n",
    "\n",
    "\n",
    "\n",
    "\n",
    "#### Make [this test](/edit/session8/block.py) pass: `block.py:BlockTest:test_get_transactions`"
   ]
  },
  {
   "cell_type": "code",
   "execution_count": 2,
   "id": "247a6b8d",
   "metadata": {},
   "outputs": [
    {
     "name": "stderr",
     "output_type": "stream",
     "text": [
      ".\n",
      "----------------------------------------------------------------------\n",
      "Ran 1 test in 0.002s\n",
      "\n",
      "OK\n"
     ]
    }
   ],
   "source": [
    "# Exercise 1\n",
    "\n",
    "reload(block)\n",
    "run(block.BlockTest('test_get_transactions'))"
   ]
  },
  {
   "cell_type": "markdown",
   "id": "cef750cb",
   "metadata": {},
   "source": [
    "### Exercise 2\n",
    "Check that the block with your previous transaction in fact has it\n"
   ]
  },
  {
   "cell_type": "code",
   "execution_count": 3,
   "id": "eef49ca5",
   "metadata": {},
   "outputs": [
    {
     "name": "stdout",
     "output_type": "stream",
     "text": [
      "mseRGXB89UTFVkWJhTRTzzZ9Ujj4ZPbGK5\n",
      "0100000001ff5cf6387deac5a25e72ebb753d6adfa487fbac4d5996731213349546a96ae950100000000ffffffff02a0860100000000001976a914850af0029eb376691c3eef244c25eceb4e50c50388ac43f54e5202000000160014f5a74a3131dedb57a092ae86aad3ee3f9b8d721400000000\n"
     ]
    }
   ],
   "source": [
    "# Exercise 2\n",
    "\n",
    "from block import Block\n",
    "from ecc import PrivateKey\n",
    "from helper import decode_base58, hash256, little_endian_to_int\n",
    "from network import SimpleNode, GetDataMessage, BLOCK_DATA_TYPE\n",
    "from script import p2pkh_script\n",
    "from tx import Tx\n",
    "block_hash = bytes.fromhex('00000006439f526ce138524262a29500258db39130e1ddf0c168ca59002877b8')\n",
    "passphrase = b'Jimmy Song'\n",
    "secret = little_endian_to_int(hash256(passphrase))\n",
    "private_key = PrivateKey(secret=secret)\n",
    "addr = private_key.point.address(network=\"signet\")\n",
    "print(addr)\n",
    "# convert the address to a ScriptPubKey using decode_base58 and p2pkh_script\n",
    "script_pubkey = p2pkh_script(decode_base58(addr))\n",
    "# connect to signet.programmingbitcoin.com\n",
    "node = SimpleNode('signet.programmingbitcoin.com', network=\"signet\")\n",
    "# complete the handshake\n",
    "node.handshake()\n",
    "# create a GetDataMessage\n",
    "getdata = GetDataMessage()\n",
    "# add the BLOCK_DATA_TYPE with the block hash\n",
    "getdata.add_data(BLOCK_DATA_TYPE, block_hash)\n",
    "# send the GetDataMessage\n",
    "node.send(getdata)\n",
    "# wait for the Block\n",
    "b = node.wait_for(Block)\n",
    "# get transactions in this block that have your ScriptPubKey\n",
    "txs = b.get_transactions(script_pubkey)\n",
    "# print the first one serialized and hexadecimal\n",
    "print(txs[0].serialize().hex())"
   ]
  },
  {
   "cell_type": "markdown",
   "id": "d8a1acf4",
   "metadata": {},
   "source": [
    "### Exercise 3\n",
    "\n",
    "\n",
    "\n",
    "\n",
    "#### Make [this test](/edit/session8/network.py) pass: `network.py:SimpleNodeTest:test_get_block`"
   ]
  },
  {
   "cell_type": "code",
   "execution_count": 4,
   "id": "b34428bc",
   "metadata": {},
   "outputs": [
    {
     "name": "stderr",
     "output_type": "stream",
     "text": [
      ".\n",
      "----------------------------------------------------------------------\n",
      "Ran 1 test in 0.411s\n",
      "\n",
      "OK\n"
     ]
    }
   ],
   "source": [
    "# Exercise 3\n",
    "\n",
    "reload(network)\n",
    "run(network.SimpleNodeTest('test_get_block'))"
   ]
  },
  {
   "cell_type": "markdown",
   "id": "de5b652b",
   "metadata": {},
   "source": [
    "### Exercise 4\n",
    "You have been sent some unknown number of sats to your address on signet.\n",
    "\n",
    "Send all of it back (minus fees) to `mqYz6JpuKukHzPg94y4XNDdPCEJrNkLQcv` using only the networking protocol.\n",
    "\n",
    "This should be a 1 input, 1 output transaction.\n",
    "\n",
    "Turn on logging in `SimpleNode` if you need to debug\n"
   ]
  },
  {
   "cell_type": "code",
   "execution_count": 5,
   "id": "7af39bbf",
   "metadata": {},
   "outputs": [
    {
     "name": "stdout",
     "output_type": "stream",
     "text": [
      "mseRGXB89UTFVkWJhTRTzzZ9Ujj4ZPbGK5\n",
      "89b252427a527b955393aaaebe95f2d38c3367f9fd2415bf0fae3b4336fc7831\n"
     ]
    }
   ],
   "source": [
    "# Exercise 4\n",
    "\n",
    "from block import Block\n",
    "from ecc import PrivateKey\n",
    "from helper import decode_base58, hash160, hash256, little_endian_to_int\n",
    "from network import GetDataMessage, SimpleNode, BLOCK_DATA_TYPE\n",
    "from script import p2pkh_script\n",
    "from tx import Tx, TxIn, TxOut\n",
    "block_hex = '0000013cacd6f0e096f8c059241f389211fc014bf7134ed0b83298788a86c9ad'\n",
    "block_hash = bytes.fromhex(block_hex)\n",
    "passphrase = b'Jimmy Song'\n",
    "secret = little_endian_to_int(hash256(passphrase))\n",
    "private_key = PrivateKey(secret=secret)\n",
    "addr = private_key.point.address(network=\"signet\")\n",
    "print(addr)\n",
    "h160 = decode_base58(addr)\n",
    "my_script_pubkey = p2pkh_script(h160)\n",
    "target_address = 'mqYz6JpuKukHzPg94y4XNDdPCEJrNkLQcv'\n",
    "target_h160 = decode_base58(target_address)\n",
    "target_script = p2pkh_script(target_h160)\n",
    "fee = 200  # fee in satoshis\n",
    "# connect to signet.programmingbitcoin.com in signet mode\n",
    "node = SimpleNode('signet.programmingbitcoin.com', network=\"signet\")\n",
    "# complete the handshake\n",
    "node.handshake()\n",
    "# get the block object using the get_block method of node\n",
    "block_obj = node.get_block(block_hash)\n",
    "# grab the txs from the block using get_transactions\n",
    "txs = block_obj.get_transactions(my_script_pubkey)\n",
    "# there should be one transaction\n",
    "if len(txs) != 1:\n",
    "    raise RuntimeError(\"incorrect number of transactions\")\n",
    "# initialize the tx_ins array\n",
    "tx_ins = []\n",
    "# loop through the outputs of the transaction, enumerated\n",
    "for i, tx_out in enumerate(txs[0].tx_outs):\n",
    "    # check if the output has the script pubkey we're looking for\n",
    "    if tx_out.script_pubkey == my_script_pubkey:\n",
    "        # add this tx out as a tx in\n",
    "        tx_ins.append(TxIn(txs[0].hash(), i))\n",
    "        # record the amount from this output\n",
    "        prev_amount = tx_out.amount\n",
    "# calculate the output amount (prev amount - fee)\n",
    "output_amount = prev_amount - fee\n",
    "# create TxOut\n",
    "tx_out = TxOut(output_amount, target_script)\n",
    "# create transaction on signet\n",
    "tx_obj = Tx(1, tx_ins, [tx_out], 0, network=\"signet\")\n",
    "# sign the only input in the tx\n",
    "tx_obj.sign_input(0, private_key)\n",
    "# print the tx's id\n",
    "print(tx_obj.id())\n",
    "# send this signed transaction via the node\n",
    "node.send(tx_obj)"
   ]
  }
 ],
 "metadata": {
  "kernelspec": {
   "display_name": "Python 3 (ipykernel)",
   "language": "python",
   "name": "python3"
  },
  "language_info": {
   "codemirror_mode": {
    "name": "ipython",
    "version": 3
   },
   "file_extension": ".py",
   "mimetype": "text/x-python",
   "name": "python",
   "nbconvert_exporter": "python",
   "pygments_lexer": "ipython3",
   "version": "3.11.3"
  }
 },
 "nbformat": 4,
 "nbformat_minor": 5
}
