{
 "cells": [
  {
   "cell_type": "code",
   "execution_count": 2,
   "metadata": {},
   "outputs": [],
   "source": [
    "# import everything and define a test runner function\n",
    "from importlib import reload\n",
    "from helper import run_test\n",
    "\n",
    "import ecc\n",
    "import helper"
   ]
  },
  {
   "cell_type": "markdown",
   "metadata": {},
   "source": [
    "# Schnorr\n",
    "\n",
    "Instead of using field division like in ECDSA (see Session 2), Schnorr scheme is using hashes with preimage resistance which is represented by H."
   ]
  },
  {
   "cell_type": "markdown",
   "metadata": {},
   "source": [
    "## Exercise 1\n",
    "\n",
    "### 1.1 Verify this signature\n",
    "\n",
    "```\n",
    "P = (9680241112d370b56da22eb535745d9e314380e568229e09f7241066003bc471,ddac2d377f03c201ffa0419d6596d10327d6c70313bb492ff495f946285d8f38)\n",
    "R = (8bace15710a34077f96b7e4376e989ec447aabb7024723411da43227f2034040,ca5480e1c3811a500fc59f0619cc7cb2c79e287d32f5b3741c0b14cd9734b281)\n",
    "s = b337d54da04c9d2e8b285f43e5fb9fd3f3fe1ba512d8a2e208d953884497a591\n",
    "z = 9397a77eef75df76836022dd2a467efb48840d09ac01b1b04f3f2f24e4ccb810\n",
    "```\n",
    "\n",
    "\n",
    "### 1.2 Make the test pass\n",
    "\n",
    "ecc.py:S256Test:test_verify_schnorr"
   ]
  },
  {
   "cell_type": "code",
   "execution_count": 4,
   "metadata": {},
   "outputs": [
    {
     "name": "stdout",
     "output_type": "stream",
     "text": [
      "(Point(8bace15710a34077f96b7e4376e989ec447aabb7024723411da43227f2034040,ca5480e1c3811a500fc59f0619cc7cb2c79e287d32f5b3741c0b14cd9734b281), 81062648649736738252628112069362890791337918225675521390458912093458484667793)\n"
     ]
    }
   ],
   "source": [
    "# Exercise 1.1\n",
    "\n",
    "from ecc import S256Point, G, N\n",
    "from helper import hash_schnorr\n",
    "\n",
    "px = 0x9680241112d370b56da22eb535745d9e314380e568229e09f7241066003bc471\n",
    "py = 0xddac2d377f03c201ffa0419d6596d10327d6c70313bb492ff495f946285d8f38\n",
    "\n",
    "rx = 0x8bace15710a34077f96b7e4376e989ec447aabb7024723411da43227f2034040\n",
    "ry = 0xca5480e1c3811a500fc59f0619cc7cb2c79e287d32f5b3741c0b14cd9734b281\n",
    "\n",
    "s = 0xb337d54da04c9d2e8b285f43e5fb9fd3f3fe1ba512d8a2e208d953884497a591\n",
    "z = 0x9397a77eef75df76836022dd2a467efb48840d09ac01b1b04f3f2f24e4ccb810\n",
    "\n",
    "# initialize the public point\n",
    "# use: S256Point(x-coordinate, y-coordinate)\n",
    "point = S256Point(px, py)\n",
    "\n",
    "R = S256Point(rx, ry)\n",
    "\n",
    "Q = s*G - hash_shnorr(R.x.num, R.y.num, z)\n",
    "\n"
   ]
  },
  {
   "cell_type": "code",
   "execution_count": null,
   "metadata": {},
   "outputs": [],
   "source": []
  }
 ],
 "metadata": {
  "kernelspec": {
   "display_name": "Python 3",
   "language": "python",
   "name": "python3"
  },
  "language_info": {
   "codemirror_mode": {
    "name": "ipython",
    "version": 3
   },
   "file_extension": ".py",
   "mimetype": "text/x-python",
   "name": "python",
   "nbconvert_exporter": "python",
   "pygments_lexer": "ipython3",
   "version": "3.5.2"
  }
 },
 "nbformat": 4,
 "nbformat_minor": 2
}
