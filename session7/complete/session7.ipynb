{
 "cells": [
  {
   "cell_type": "code",
   "execution_count": 1,
   "metadata": {},
   "outputs": [],
   "source": [
    "# import everything and define a test runner function\n",
    "from importlib import reload\n",
    "from helper import run_test\n",
    "\n",
    "import block\n",
    "import ecc\n",
    "import helper\n",
    "import merkleblock\n",
    "import network\n",
    "import script\n",
    "import tx"
   ]
  },
  {
   "cell_type": "code",
   "execution_count": 2,
   "metadata": {},
   "outputs": [
    {
     "name": "stdout",
     "output_type": "stream",
     "text": [
      "8b30c5ba100f6f2e5ad1e2a742e5020491240f8eb514fe97c713c31718ad7ecd\n"
     ]
    }
   ],
   "source": [
    "# Merkle Parent Example\n",
    "\n",
    "from helper import double_sha256\n",
    "\n",
    "tx_hash0 = bytes.fromhex('c117ea8ec828342f4dfb0ad6bd140e03a50720ece40169ee38bdc15d9eb64cf5')\n",
    "tx_hash1 = bytes.fromhex('c131474164b412e3406696da1ee20ab0fc9bf41c8f05fa8ceea7a08d672d7cc5')\n",
    "\n",
    "merkle_parent = double_sha256(tx_hash0+tx_hash1)\n",
    "print(merkle_parent.hex())"
   ]
  },
  {
   "cell_type": "markdown",
   "metadata": {},
   "source": [
    "### Exercise 1\n",
    "\n",
    "#### 1.1. Calculate the Merkle parent of these hashes:\n",
    "```\n",
    "f391da6ecfeed1814efae39e7fcb3838ae0b02c02ae7d0a5848a66947c0727b0\n",
    "3d238a92a94532b946c90e19c49351c763696cff3db400485b813aecb8a13181\n",
    "```\n",
    "\n",
    "#### 1.2. Make [this test](/edit/session7/helper.py) pass\n",
    "```\n",
    "helper.py:HelperTest:test_merkle_parent\n",
    "```"
   ]
  },
  {
   "cell_type": "code",
   "execution_count": 3,
   "metadata": {},
   "outputs": [
    {
     "name": "stdout",
     "output_type": "stream",
     "text": [
      "7f4e6f9e224e20fda0ae4c44114237f97cd35aca38d83081c9bfd41feb907800\n"
     ]
    }
   ],
   "source": [
    "# Exercise 1.1\n",
    "\n",
    "from helper import double_sha256\n",
    "\n",
    "hex_hash1 = 'f391da6ecfeed1814efae39e7fcb3838ae0b02c02ae7d0a5848a66947c0727b0'\n",
    "hex_hash2 = '3d238a92a94532b946c90e19c49351c763696cff3db400485b813aecb8a13181'\n",
    "\n",
    "# bytes.fromhex to get the bin hashes\n",
    "hash1 = bytes.fromhex(hex_hash1)\n",
    "hash2 = bytes.fromhex(hex_hash2)\n",
    "# double_sha256 the combination\n",
    "parent = double_sha256(hash1+hash2)\n",
    "# hex() to see the result\n",
    "print(parent.hex())"
   ]
  },
  {
   "cell_type": "code",
   "execution_count": 4,
   "metadata": {},
   "outputs": [
    {
     "name": "stderr",
     "output_type": "stream",
     "text": [
      ".\n",
      "----------------------------------------------------------------------\n",
      "Ran 1 test in 0.001s\n",
      "\n",
      "OK\n"
     ]
    }
   ],
   "source": [
    "# Exercise 1.2\n",
    "\n",
    "reload(helper)\n",
    "run_test(helper.HelperTest('test_merkle_parent'))"
   ]
  },
  {
   "cell_type": "code",
   "execution_count": 5,
   "metadata": {},
   "outputs": [
    {
     "name": "stdout",
     "output_type": "stream",
     "text": [
      "8b30c5ba100f6f2e5ad1e2a742e5020491240f8eb514fe97c713c31718ad7ecd\n",
      "7f4e6f9e224e20fda0ae4c44114237f97cd35aca38d83081c9bfd41feb907800\n",
      "3ecf6115380c77e8aae56660f5634982ee897351ba906a6837d15ebc3a225df0\n"
     ]
    }
   ],
   "source": [
    "# Merkle Parent Level Example\n",
    "\n",
    "from helper import double_sha256, merkle_parent\n",
    "hex_hashes = [\n",
    "    'c117ea8ec828342f4dfb0ad6bd140e03a50720ece40169ee38bdc15d9eb64cf5',\n",
    "    'c131474164b412e3406696da1ee20ab0fc9bf41c8f05fa8ceea7a08d672d7cc5',\n",
    "    'f391da6ecfeed1814efae39e7fcb3838ae0b02c02ae7d0a5848a66947c0727b0',\n",
    "    '3d238a92a94532b946c90e19c49351c763696cff3db400485b813aecb8a13181',\n",
    "    '10092f2633be5f3ce349bf9ddbde36caa3dd10dfa0ec8106bce23acbff637dae',\n",
    "]\n",
    "hashes = [bytes.fromhex(x) for x in hex_hashes]\n",
    "if len(hashes) % 2 == 1:\n",
    "    hashes.append(hashes[-1])\n",
    "parent_level = []\n",
    "for i in range(0, len(hex_hashes), 2):\n",
    "    parent = merkle_parent(hashes[i], hashes[i+1])\n",
    "    print(parent.hex())\n",
    "    parent_level.append(parent)"
   ]
  },
  {
   "cell_type": "markdown",
   "metadata": {},
   "source": [
    "### Exercise 2\n",
    "\n",
    "#### 2.1. Calculate the next Merkle Parent Level given these hashes\n",
    "```\n",
    "8b30c5ba100f6f2e5ad1e2a742e5020491240f8eb514fe97c713c31718ad7ecd\n",
    "7f4e6f9e224e20fda0ae4c44114237f97cd35aca38d83081c9bfd41feb907800\n",
    "ade48f2bbb57318cc79f3a8678febaa827599c509dce5940602e54c7733332e7\n",
    "68b3e2ab8182dfd646f13fdf01c335cf32476482d963f5cd94e934e6b3401069\n",
    "43e7274e77fbe8e5a42a8fb58f7decdb04d521f319f332d88e6b06f8e6c09e27\n",
    "```\n",
    "\n",
    "#### 2.2. Make [this test](/edit/session7/helper.py) pass.\n",
    "```\n",
    "helper.py:HelperTest:test_merkle_parent_level\n",
    "```"
   ]
  },
  {
   "cell_type": "code",
   "execution_count": 6,
   "metadata": {},
   "outputs": [
    {
     "name": "stdout",
     "output_type": "stream",
     "text": [
      "26906cb2caeb03626102f7606ea332784281d5d20e2b4839fbb3dbb37262dbc1\n",
      "717a0d17538ff5ad2c020bab38bdcde66e63f3daef88f89095f344918d5d4f96\n",
      "d6c56a5281021a587f5a1e0dd4674bff012c69d960136d96e6d72261d5b696ae\n"
     ]
    }
   ],
   "source": [
    "# Exercise 2.1\n",
    "\n",
    "from helper import merkle_parent\n",
    "\n",
    "hex_hashes = [\n",
    "    '8b30c5ba100f6f2e5ad1e2a742e5020491240f8eb514fe97c713c31718ad7ecd',\n",
    "    '7f4e6f9e224e20fda0ae4c44114237f97cd35aca38d83081c9bfd41feb907800',\n",
    "    'ade48f2bbb57318cc79f3a8678febaa827599c509dce5940602e54c7733332e7',\n",
    "    '68b3e2ab8182dfd646f13fdf01c335cf32476482d963f5cd94e934e6b3401069',\n",
    "    '43e7274e77fbe8e5a42a8fb58f7decdb04d521f319f332d88e6b06f8e6c09e27',\n",
    "]\n",
    "\n",
    "# bytes.fromhex to get all the hashes in binary\n",
    "hashes = [bytes.fromhex(h) for h in hex_hashes]\n",
    "# if the number of hashes is odd, duplicate the last one\n",
    "if len(hashes) % 2 == 1:\n",
    "    hashes.append(hashes[-1])\n",
    "# initialize parent level\n",
    "parent_level = []\n",
    "# skip by two: use range(0, len(hashes), 2)\n",
    "for i in range(0, len(hashes), 2):\n",
    "    # calculate merkle_parent of i and i+1 hashes\n",
    "    parent = merkle_parent(hashes[i], hashes[i+1])\n",
    "    # print the hash's hex\n",
    "    print(parent.hex())\n",
    "    # add parent to parent level\n",
    "    parent_level.append(parent)"
   ]
  },
  {
   "cell_type": "code",
   "execution_count": 7,
   "metadata": {},
   "outputs": [
    {
     "name": "stderr",
     "output_type": "stream",
     "text": [
      ".\n",
      "----------------------------------------------------------------------\n",
      "Ran 1 test in 0.001s\n",
      "\n",
      "OK\n"
     ]
    }
   ],
   "source": [
    "# Exercise 2.2\n",
    "\n",
    "reload(helper)\n",
    "run_test(helper.HelperTest('test_merkle_parent_level'))"
   ]
  },
  {
   "cell_type": "code",
   "execution_count": 8,
   "metadata": {},
   "outputs": [
    {
     "name": "stdout",
     "output_type": "stream",
     "text": [
      "acbcab8bcc1af95d8d563b77d24c3d19b18f1486383d75a5085c4e86c86beed6\n"
     ]
    }
   ],
   "source": [
    "# Merkle Root Example\n",
    "\n",
    "from helper import double_sha256, merkle_parent_level\n",
    "\n",
    "hex_hashes = [\n",
    "    'c117ea8ec828342f4dfb0ad6bd140e03a50720ece40169ee38bdc15d9eb64cf5',\n",
    "    'c131474164b412e3406696da1ee20ab0fc9bf41c8f05fa8ceea7a08d672d7cc5',\n",
    "    'f391da6ecfeed1814efae39e7fcb3838ae0b02c02ae7d0a5848a66947c0727b0',\n",
    "    '3d238a92a94532b946c90e19c49351c763696cff3db400485b813aecb8a13181',\n",
    "    '10092f2633be5f3ce349bf9ddbde36caa3dd10dfa0ec8106bce23acbff637dae',\n",
    "    '7d37b3d54fa6a64869084bfd2e831309118b9e833610e6228adacdbd1b4ba161',\n",
    "    '8118a77e542892fe15ae3fc771a4abfd2f5d5d5997544c3487ac36b5c85170fc',\n",
    "    'dff6879848c2c9b62fe652720b8df5272093acfaa45a43cdb3696fe2466a3877',\n",
    "    'b825c0745f46ac58f7d3759e6dc535a1fec7820377f24d4c2c6ad2cc55c0cb59',\n",
    "    '95513952a04bd8992721e9b7e2937f1c04ba31e0469fbe615a78197f68f52b7c',\n",
    "    '2e6d722e5e4dbdf2447ddecc9f7dabb8e299bae921c99ad5b0184cd9eb8e5908',\n",
    "    'b13a750047bc0bdceb2473e5fe488c2596d7a7124b4e716fdd29b046ef99bbf0',\n",
    "]\n",
    "\n",
    "current_level = [bytes.fromhex(x) for x in hex_hashes]\n",
    "while len(current_level) > 1:\n",
    "    current_level = merkle_parent_level(current_level)\n",
    "print(current_level[0].hex())"
   ]
  },
  {
   "cell_type": "markdown",
   "metadata": {},
   "source": [
    "### Exercise 3\n",
    "\n",
    "#### 3.1. Calculate the Merkle Root given these hashes\n",
    "```\n",
    "42f6f52f17620653dcc909e58bb352e0bd4bd1381e2955d19c00959a22122b2e\n",
    "94c3af34b9667bf787e1c6a0a009201589755d01d02fe2877cc69b929d2418d4\n",
    "959428d7c48113cb9149d0566bde3d46e98cf028053c522b8fa8f735241aa953\n",
    "a9f27b99d5d108dede755710d4a1ffa2c74af70b4ca71726fa57d68454e609a2\n",
    "62af110031e29de1efcad103b3ad4bec7bdcf6cb9c9f4afdd586981795516577\n",
    "766900590ece194667e9da2984018057512887110bf54fe0aa800157aec796ba\n",
    "e8270fb475763bc8d855cfe45ed98060988c1bdcad2ffc8364f783c98999a208\n",
    "921b8cfd3e14bf41f028f0a3aa88c813d5039a2b1bceb12208535b0b43a5d09e\n",
    "15535864799652347cec66cba473f6d8291541238e58b2e03b046bc53cfe1321\n",
    "1c8af7c502971e67096456eac9cd5407aacf62190fc54188995666a30faf99f0\n",
    "3311f8acc57e8a3e9b68e2945fb4f53c07b0fa4668a7e5cda6255c21558c774d\n",
    "```\n",
    "\n",
    "#### 3.2. Make [this test](/edit/session7/helper.py) pass.\n",
    "```\n",
    "helper.py:HelperTest:test_merkle_root\n",
    "```"
   ]
  },
  {
   "cell_type": "code",
   "execution_count": 9,
   "metadata": {},
   "outputs": [
    {
     "name": "stdout",
     "output_type": "stream",
     "text": [
      "a67772634e542799333c6c98bc903e36b652918a8d8a9e069391c55b4276c8a1\n"
     ]
    }
   ],
   "source": [
    "# Exercise 3.1\n",
    "\n",
    "from helper import double_sha256, merkle_parent_level\n",
    "hex_hashes = [\n",
    "    '42f6f52f17620653dcc909e58bb352e0bd4bd1381e2955d19c00959a22122b2e',\n",
    "    '94c3af34b9667bf787e1c6a0a009201589755d01d02fe2877cc69b929d2418d4',\n",
    "    '959428d7c48113cb9149d0566bde3d46e98cf028053c522b8fa8f735241aa953',\n",
    "    'a9f27b99d5d108dede755710d4a1ffa2c74af70b4ca71726fa57d68454e609a2',\n",
    "    '62af110031e29de1efcad103b3ad4bec7bdcf6cb9c9f4afdd586981795516577',\n",
    "    '766900590ece194667e9da2984018057512887110bf54fe0aa800157aec796ba',\n",
    "    'e8270fb475763bc8d855cfe45ed98060988c1bdcad2ffc8364f783c98999a208',\n",
    "    '921b8cfd3e14bf41f028f0a3aa88c813d5039a2b1bceb12208535b0b43a5d09e',\n",
    "    '15535864799652347cec66cba473f6d8291541238e58b2e03b046bc53cfe1321',\n",
    "    '1c8af7c502971e67096456eac9cd5407aacf62190fc54188995666a30faf99f0',\n",
    "    '3311f8acc57e8a3e9b68e2945fb4f53c07b0fa4668a7e5cda6255c21558c774d',\n",
    "]\n",
    "\n",
    "# bytes.fromhex to get all the hashes in binary\n",
    "hashes = [bytes.fromhex(h) for h in hex_hashes]\n",
    "# initialize current level to be the hashes\n",
    "current_level = hashes\n",
    "# loop until current_level has only 1 element\n",
    "while len(current_level) > 1:\n",
    "    # make the current level the parent level\n",
    "    current_level = merkle_parent_level(current_level)\n",
    "# print the root's hex\n",
    "print(current_level[0].hex())"
   ]
  },
  {
   "cell_type": "code",
   "execution_count": 10,
   "metadata": {},
   "outputs": [
    {
     "name": "stderr",
     "output_type": "stream",
     "text": [
      ".\n",
      "----------------------------------------------------------------------\n",
      "Ran 1 test in 0.001s\n",
      "\n",
      "OK\n"
     ]
    }
   ],
   "source": [
    "# Exercise 3.2\n",
    "\n",
    "reload(helper)\n",
    "run_test(helper.HelperTest('test_merkle_root'))"
   ]
  },
  {
   "cell_type": "code",
   "execution_count": 11,
   "metadata": {},
   "outputs": [
    {
     "name": "stdout",
     "output_type": "stream",
     "text": [
      "654d6181e18e4ac4368383fdc5eead11bf138f9b7ac1e15334e4411b3c4797d9\n"
     ]
    }
   ],
   "source": [
    "# Block Merkle Root Example\n",
    "\n",
    "from helper import double_sha256, merkle_parent_level, merkle_root\n",
    "tx_hex_hashes = [\n",
    "    '42f6f52f17620653dcc909e58bb352e0bd4bd1381e2955d19c00959a22122b2e',\n",
    "    '94c3af34b9667bf787e1c6a0a009201589755d01d02fe2877cc69b929d2418d4',\n",
    "    '959428d7c48113cb9149d0566bde3d46e98cf028053c522b8fa8f735241aa953',\n",
    "    'a9f27b99d5d108dede755710d4a1ffa2c74af70b4ca71726fa57d68454e609a2',\n",
    "    '62af110031e29de1efcad103b3ad4bec7bdcf6cb9c9f4afdd586981795516577',\n",
    "    '766900590ece194667e9da2984018057512887110bf54fe0aa800157aec796ba',\n",
    "    'e8270fb475763bc8d855cfe45ed98060988c1bdcad2ffc8364f783c98999a208',\n",
    "]\n",
    "current_level = [bytes.fromhex(x)[::-1] for x in tx_hex_hashes]\n",
    "print(merkle_root(current_level)[::-1].hex())"
   ]
  },
  {
   "cell_type": "markdown",
   "metadata": {},
   "source": [
    "### Exercise 4\n",
    "\n",
    "#### 4.1. Validate the merkle root for this block on Testnet:\n",
    "Block Hash:\n",
    "```\n",
    "0000000000000451fa80fcdb243b84c35eaae215a85a8faa880559e8239e6f20\n",
    "```\n",
    "\n",
    "Merkle Root:\n",
    "```\n",
    "4297fb95a0168b959d1469410c7527da5d6243d99699e7d041b7f3916ba93301\n",
    "```\n",
    "as seen here: https://api.blockcypher.com/v1/btc/test3/blocks/0000000000000451fa80fcdb243b84c35eaae215a85a8faa880559e8239e6f20\n",
    "\n",
    "Transaction Hashes:\n",
    "```\n",
    "42f6f52f17620653dcc909e58bb352e0bd4bd1381e2955d19c00959a22122b2e\n",
    "94c3af34b9667bf787e1c6a0a009201589755d01d02fe2877cc69b929d2418d4\n",
    "959428d7c48113cb9149d0566bde3d46e98cf028053c522b8fa8f735241aa953\n",
    "a9f27b99d5d108dede755710d4a1ffa2c74af70b4ca71726fa57d68454e609a2\n",
    "62af110031e29de1efcad103b3ad4bec7bdcf6cb9c9f4afdd586981795516577\n",
    "766900590ece194667e9da2984018057512887110bf54fe0aa800157aec796ba\n",
    "e8270fb475763bc8d855cfe45ed98060988c1bdcad2ffc8364f783c98999a208\n",
    "921b8cfd3e14bf41f028f0a3aa88c813d5039a2b1bceb12208535b0b43a5d09e\n",
    "15535864799652347cec66cba473f6d8291541238e58b2e03b046bc53cfe1321\n",
    "1c8af7c502971e67096456eac9cd5407aacf62190fc54188995666a30faf99f0\n",
    "3311f8acc57e8a3e9b68e2945fb4f53c07b0fa4668a7e5cda6255c21558c774d\n",
    "```\n",
    "\n",
    "#### 4.2. Make [this test](/edit/session7/block.py) pass.\n",
    "```\n",
    "block.py:BlockTest:test_validate_merkle_root\n",
    "```"
   ]
  },
  {
   "cell_type": "code",
   "execution_count": 12,
   "metadata": {},
   "outputs": [
    {
     "name": "stdout",
     "output_type": "stream",
     "text": [
      "True\n"
     ]
    }
   ],
   "source": [
    "# Exercise 4.1\n",
    "\n",
    "from helper import double_sha256, merkle_root\n",
    "\n",
    "want = bytes.fromhex('4297fb95a0168b959d1469410c7527da5d6243d99699e7d041b7f3916ba93301')\n",
    "\n",
    "tx_hex_hashes = [\n",
    "    '42f6f52f17620653dcc909e58bb352e0bd4bd1381e2955d19c00959a22122b2e',\n",
    "    '94c3af34b9667bf787e1c6a0a009201589755d01d02fe2877cc69b929d2418d4',\n",
    "    '959428d7c48113cb9149d0566bde3d46e98cf028053c522b8fa8f735241aa953',\n",
    "    'a9f27b99d5d108dede755710d4a1ffa2c74af70b4ca71726fa57d68454e609a2',\n",
    "    '62af110031e29de1efcad103b3ad4bec7bdcf6cb9c9f4afdd586981795516577',\n",
    "    '766900590ece194667e9da2984018057512887110bf54fe0aa800157aec796ba',\n",
    "    'e8270fb475763bc8d855cfe45ed98060988c1bdcad2ffc8364f783c98999a208',\n",
    "    '921b8cfd3e14bf41f028f0a3aa88c813d5039a2b1bceb12208535b0b43a5d09e',\n",
    "    '15535864799652347cec66cba473f6d8291541238e58b2e03b046bc53cfe1321',\n",
    "    '1c8af7c502971e67096456eac9cd5407aacf62190fc54188995666a30faf99f0',\n",
    "    '3311f8acc57e8a3e9b68e2945fb4f53c07b0fa4668a7e5cda6255c21558c774d',\n",
    "]\n",
    "\n",
    "# bytes.fromhex and reverse ([::-1]) to get all the hashes in binary\n",
    "hashes = [bytes.fromhex(h)[::-1] for h in tx_hex_hashes]\n",
    "# get the merkle root\n",
    "root = merkle_root(hashes)\n",
    "# see if the reversed root is the same as the wanted root\n",
    "print(root[::-1] == want)"
   ]
  },
  {
   "cell_type": "code",
   "execution_count": 13,
   "metadata": {},
   "outputs": [
    {
     "name": "stderr",
     "output_type": "stream",
     "text": [
      ".\n",
      "----------------------------------------------------------------------\n",
      "Ran 1 test in 0.001s\n",
      "\n",
      "OK\n"
     ]
    }
   ],
   "source": [
    "# Exercise 4.2\n",
    "\n",
    "reload(block)\n",
    "run_test(block.BlockTest('test_validate_merkle_root'))"
   ]
  },
  {
   "cell_type": "code",
   "execution_count": 14,
   "metadata": {},
   "outputs": [
    {
     "name": "stdout",
     "output_type": "stream",
     "text": [
      "[None]\n",
      "[None, None]\n",
      "[None, None, None, None]\n",
      "[None, None, None, None, None, None, None, None]\n",
      "[None, None, None, None, None, None, None, None, None, None, None, None, None, None, None, None]\n"
     ]
    }
   ],
   "source": [
    "# Merkle Tree Example\n",
    "\n",
    "import math\n",
    "\n",
    "total = 16\n",
    "\n",
    "max_depth = math.ceil(math.log(total, 2))\n",
    "merkle_tree = []\n",
    "for depth in range(max_depth + 1):\n",
    "    num_items = math.ceil(total / 2**(max_depth - depth))\n",
    "    level_hashes = [None] * num_items\n",
    "    merkle_tree.append(level_hashes)\n",
    "\n",
    "for level in merkle_tree:\n",
    "    print(level)"
   ]
  },
  {
   "cell_type": "markdown",
   "metadata": {},
   "source": [
    "### Exercise 5\n",
    "\n",
    "#### 5.1. Create a Merkle Tree with 27 items.\n",
    "\n",
    "#### 5.2. Make [this test](/edit/session7/merkleblock.py) pass.\n",
    "```\n",
    "merkleblock.py:MerkleTreeTest:test_init\n",
    "```"
   ]
  },
  {
   "cell_type": "code",
   "execution_count": 15,
   "metadata": {},
   "outputs": [
    {
     "name": "stdout",
     "output_type": "stream",
     "text": [
      "[None, None]\n",
      "[None, None, None, None]\n",
      "[None, None, None, None, None, None, None]\n",
      "[None, None, None, None, None, None, None, None, None, None, None, None, None, None]\n",
      "[None, None, None, None, None, None, None, None, None, None, None, None, None, None, None, None, None, None, None, None, None, None, None, None, None, None, None]\n"
     ]
    }
   ],
   "source": [
    "# Exercise 5.1\n",
    "\n",
    "import math\n",
    "\n",
    "total = 27\n",
    "\n",
    "# get the max_depth (math.ceil(math.log(total, 2)))\n",
    "max_depth = math.ceil(math.log(total, 2))\n",
    "# initialize the tree\n",
    "merkle_tree = []\n",
    "# range over all possible depths (0 to max_depth INCLUSIVE)\n",
    "for depth in range(max_depth + 1):\n",
    "    # the number of items at this level is math.ceil(total / 2**(max_depth-depth))\n",
    "    num_items = math.ceil(total / 2**(max_depth - depth))\n",
    "    # initialize this level with every item being None\n",
    "    level_hashes = [None] * num_items\n",
    "    # add this level to the tree\n",
    "    merkle_tree.append(level_hashes)\n",
    "\n",
    "# loop over each level in the merkle tree\n",
    "for level in merkle_tree:\n",
    "    # print this level\n",
    "    print(level)"
   ]
  },
  {
   "cell_type": "code",
   "execution_count": 16,
   "metadata": {},
   "outputs": [
    {
     "name": "stderr",
     "output_type": "stream",
     "text": [
      ".\n",
      "----------------------------------------------------------------------\n",
      "Ran 1 test in 0.001s\n",
      "\n",
      "OK\n"
     ]
    }
   ],
   "source": [
    "# Exercise 5.2\n",
    "\n",
    "reload(merkleblock)\n",
    "run_test(merkleblock.MerkleTreeTest('test_init'))"
   ]
  },
  {
   "cell_type": "code",
   "execution_count": 17,
   "metadata": {},
   "outputs": [
    {
     "name": "stdout",
     "output_type": "stream",
     "text": [
      "*597c4baf.*, \n",
      "6382df3f..., 87cf8fa3..., \n",
      "3ba6c080..., 8e894862..., 7ab01bb6..., 3df760ac..., \n",
      "272945ec..., 9a38d037..., 4a64abd9..., ec7c95e1..., 3b67006c..., 850683df..., d40d268b..., 8636b7a3..., \n",
      "9745f717..., 5573c8ed..., 82a02ecb..., 507ccae5..., a7a4aec2..., bb626766..., ea6d7ac1..., 45774386..., 76880292..., b1ae7f15..., 9b74f89f..., b3a92b5b..., b5c0b915..., c9d52c5c..., c555bc5f..., f9dbfafc..., \n",
      "\n",
      "597c4baf..., \n",
      "6382df3f..., *87cf8fa3.*, \n",
      "3ba6c080..., 8e894862..., 7ab01bb6..., 3df760ac..., \n",
      "272945ec..., 9a38d037..., 4a64abd9..., ec7c95e1..., 3b67006c..., 850683df..., d40d268b..., 8636b7a3..., \n",
      "9745f717..., 5573c8ed..., 82a02ecb..., 507ccae5..., a7a4aec2..., bb626766..., ea6d7ac1..., 45774386..., 76880292..., b1ae7f15..., 9b74f89f..., b3a92b5b..., b5c0b915..., c9d52c5c..., c555bc5f..., f9dbfafc..., \n",
      "\n",
      "597c4baf..., \n",
      "6382df3f..., 87cf8fa3..., \n",
      "3ba6c080..., 8e894862..., *7ab01bb6.*, 3df760ac..., \n",
      "272945ec..., 9a38d037..., 4a64abd9..., ec7c95e1..., 3b67006c..., 850683df..., d40d268b..., 8636b7a3..., \n",
      "9745f717..., 5573c8ed..., 82a02ecb..., 507ccae5..., a7a4aec2..., bb626766..., ea6d7ac1..., 45774386..., 76880292..., b1ae7f15..., 9b74f89f..., b3a92b5b..., b5c0b915..., c9d52c5c..., c555bc5f..., f9dbfafc..., \n",
      "\n",
      "597c4baf..., \n",
      "6382df3f..., 87cf8fa3..., \n",
      "3ba6c080..., 8e894862..., 7ab01bb6..., 3df760ac..., \n",
      "272945ec..., 9a38d037..., 4a64abd9..., ec7c95e1..., 3b67006c..., *850683df.*, d40d268b..., 8636b7a3..., \n",
      "9745f717..., 5573c8ed..., 82a02ecb..., 507ccae5..., a7a4aec2..., bb626766..., ea6d7ac1..., 45774386..., 76880292..., b1ae7f15..., 9b74f89f..., b3a92b5b..., b5c0b915..., c9d52c5c..., c555bc5f..., f9dbfafc..., \n",
      "\n",
      "597c4baf..., \n",
      "6382df3f..., 87cf8fa3..., \n",
      "3ba6c080..., 8e894862..., *7ab01bb6.*, 3df760ac..., \n",
      "272945ec..., 9a38d037..., 4a64abd9..., ec7c95e1..., 3b67006c..., 850683df..., d40d268b..., 8636b7a3..., \n",
      "9745f717..., 5573c8ed..., 82a02ecb..., 507ccae5..., a7a4aec2..., bb626766..., ea6d7ac1..., 45774386..., 76880292..., b1ae7f15..., 9b74f89f..., b3a92b5b..., b5c0b915..., c9d52c5c..., c555bc5f..., f9dbfafc..., \n",
      "\n"
     ]
    }
   ],
   "source": [
    "# Merkle Tree Populating and Navigating Example\n",
    "\n",
    "from merkleblock import MerkleTree\n",
    "from helper import merkle_parent_level, merkle_parent\n",
    "\n",
    "hex_hashes = [\n",
    "    \"9745f7173ef14ee4155722d1cbf13304339fd00d900b759c6f9d58579b5765fb\",\n",
    "    \"5573c8ede34936c29cdfdfe743f7f5fdfbd4f54ba0705259e62f39917065cb9b\",\n",
    "    \"82a02ecbb6623b4274dfcab82b336dc017a27136e08521091e443e62582e8f05\",\n",
    "    \"507ccae5ed9b340363a0e6d765af148be9cb1c8766ccc922f83e4ae681658308\",\n",
    "    \"a7a4aec28e7162e1e9ef33dfa30f0bc0526e6cf4b11a576f6c5de58593898330\",\n",
    "    \"bb6267664bd833fd9fc82582853ab144fece26b7a8a5bf328f8a059445b59add\",\n",
    "    \"ea6d7ac1ee77fbacee58fc717b990c4fcccf1b19af43103c090f601677fd8836\",\n",
    "    \"457743861de496c429912558a106b810b0507975a49773228aa788df40730d41\",\n",
    "    \"7688029288efc9e9a0011c960a6ed9e5466581abf3e3a6c26ee317461add619a\",\n",
    "    \"b1ae7f15836cb2286cdd4e2c37bf9bb7da0a2846d06867a429f654b2e7f383c9\",\n",
    "    \"9b74f89fa3f93e71ff2c241f32945d877281a6a50a6bf94adac002980aafe5ab\",\n",
    "    \"b3a92b5b255019bdaf754875633c2de9fec2ab03e6b8ce669d07cb5b18804638\",\n",
    "    \"b5c0b915312b9bdaedd2b86aa2d0f8feffc73a2d37668fd9010179261e25e263\",\n",
    "    \"c9d52c5cb1e557b92c84c52e7c4bfbce859408bedffc8a5560fd6e35e10b8800\",\n",
    "    \"c555bc5fc3bc096df0a0c9532f07640bfb76bfe4fc1ace214b8b228a1297a4c2\",\n",
    "    \"f9dbfafc3af3400954975da24eb325e326960a25b87fffe23eef3e7ed2fb610e\",\n",
    "]\n",
    "tree = MerkleTree(len(hex_hashes))\n",
    "tree.nodes[4] = [bytes.fromhex(h) for h in hex_hashes]\n",
    "tree.nodes[3] = merkle_parent_level(tree.nodes[4])\n",
    "tree.nodes[2] = merkle_parent_level(tree.nodes[3])\n",
    "tree.nodes[1] = merkle_parent_level(tree.nodes[2])\n",
    "tree.nodes[0] = merkle_parent_level(tree.nodes[1])\n",
    "print(tree)\n",
    "tree.right()\n",
    "print(tree)\n",
    "tree.left()\n",
    "print(tree)\n",
    "tree.right()\n",
    "print(tree)\n",
    "tree.up()\n",
    "print(tree)"
   ]
  },
  {
   "cell_type": "code",
   "execution_count": 18,
   "metadata": {},
   "outputs": [
    {
     "name": "stdout",
     "output_type": "stream",
     "text": [
      "597c4baf..., \n",
      "6382df3f..., 87cf8fa3..., \n",
      "3ba6c080..., 8e894862..., 7ab01bb6..., 3df760ac..., \n",
      "272945ec..., 9a38d037..., 4a64abd9..., ec7c95e1..., 3b67006c..., 850683df..., d40d268b..., 8636b7a3..., \n",
      "9745f717..., 5573c8ed..., 82a02ecb..., 507ccae5..., a7a4aec2..., bb626766..., ea6d7ac1..., 45774386..., 76880292..., b1ae7f15..., 9b74f89f..., b3a92b5b..., b5c0b915..., c9d52c5c..., c555bc5f..., f9dbfafc..., \n",
      "\n"
     ]
    }
   ],
   "source": [
    "# Merkle Tree Populating Example #2\n",
    "\n",
    "from merkleblock import MerkleTree\n",
    "from helper import merkle_parent\n",
    "\n",
    "hex_hashes = [\n",
    "    \"9745f7173ef14ee4155722d1cbf13304339fd00d900b759c6f9d58579b5765fb\",\n",
    "    \"5573c8ede34936c29cdfdfe743f7f5fdfbd4f54ba0705259e62f39917065cb9b\",\n",
    "    \"82a02ecbb6623b4274dfcab82b336dc017a27136e08521091e443e62582e8f05\",\n",
    "    \"507ccae5ed9b340363a0e6d765af148be9cb1c8766ccc922f83e4ae681658308\",\n",
    "    \"a7a4aec28e7162e1e9ef33dfa30f0bc0526e6cf4b11a576f6c5de58593898330\",\n",
    "    \"bb6267664bd833fd9fc82582853ab144fece26b7a8a5bf328f8a059445b59add\",\n",
    "    \"ea6d7ac1ee77fbacee58fc717b990c4fcccf1b19af43103c090f601677fd8836\",\n",
    "    \"457743861de496c429912558a106b810b0507975a49773228aa788df40730d41\",\n",
    "    \"7688029288efc9e9a0011c960a6ed9e5466581abf3e3a6c26ee317461add619a\",\n",
    "    \"b1ae7f15836cb2286cdd4e2c37bf9bb7da0a2846d06867a429f654b2e7f383c9\",\n",
    "    \"9b74f89fa3f93e71ff2c241f32945d877281a6a50a6bf94adac002980aafe5ab\",\n",
    "    \"b3a92b5b255019bdaf754875633c2de9fec2ab03e6b8ce669d07cb5b18804638\",\n",
    "    \"b5c0b915312b9bdaedd2b86aa2d0f8feffc73a2d37668fd9010179261e25e263\",\n",
    "    \"c9d52c5cb1e557b92c84c52e7c4bfbce859408bedffc8a5560fd6e35e10b8800\",\n",
    "    \"c555bc5fc3bc096df0a0c9532f07640bfb76bfe4fc1ace214b8b228a1297a4c2\",\n",
    "    \"f9dbfafc3af3400954975da24eb325e326960a25b87fffe23eef3e7ed2fb610e\",\n",
    "]\n",
    "tree = MerkleTree(len(hex_hashes))\n",
    "tree.nodes[4] = [bytes.fromhex(h) for h in hex_hashes]\n",
    "while tree.root() is None:\n",
    "    if tree.is_leaf():\n",
    "        tree.up()\n",
    "    else:\n",
    "        left_hash = tree.get_left_node()\n",
    "        right_hash = tree.get_right_node()\n",
    "        if left_hash is None:\n",
    "            tree.left()\n",
    "        elif right_hash is None:\n",
    "            tree.right()\n",
    "        else:\n",
    "            tree.set_current_node(merkle_parent(left_hash, right_hash))\n",
    "            tree.up()\n",
    "print(tree)"
   ]
  },
  {
   "cell_type": "markdown",
   "metadata": {},
   "source": [
    "### Exercise 6\n",
    "\n",
    "#### 6.1. Populate this Merkle Tree given the 8 hashes\n",
    "Transaction Hashes:\n",
    "```\n",
    "42f6f52f17620653dcc909e58bb352e0bd4bd1381e2955d19c00959a22122b2e\n",
    "94c3af34b9667bf787e1c6a0a009201589755d01d02fe2877cc69b929d2418d4\n",
    "959428d7c48113cb9149d0566bde3d46e98cf028053c522b8fa8f735241aa953\n",
    "a9f27b99d5d108dede755710d4a1ffa2c74af70b4ca71726fa57d68454e609a2\n",
    "62af110031e29de1efcad103b3ad4bec7bdcf6cb9c9f4afdd586981795516577\n",
    "766900590ece194667e9da2984018057512887110bf54fe0aa800157aec796ba\n",
    "e8270fb475763bc8d855cfe45ed98060988c1bdcad2ffc8364f783c98999a208\n",
    "921b8cfd3e14bf41f028f0a3aa88c813d5039a2b1bceb12208535b0b43a5d09e\n",
    "```\n",
    "\n",
    "#### 6.2. Make [this test](/edit/session7/merkleblock.py) pass.\n",
    "```\n",
    "merkleblock.py:MerkleTreeTest:test_populate_tree_1\n",
    "```"
   ]
  },
  {
   "cell_type": "code",
   "execution_count": 19,
   "metadata": {},
   "outputs": [
    {
     "name": "stdout",
     "output_type": "stream",
     "text": [
      "64cbbc5d..., \n",
      "e2e5af20..., 5d8e7e77..., \n",
      "d7fb8a90..., 4e7a9ff0..., ee16eea4..., daab5fc2..., \n",
      "42f6f52f..., 94c3af34..., 959428d7..., a9f27b99..., 62af1100..., 76690059..., e8270fb4..., 921b8cfd..., \n",
      "\n"
     ]
    }
   ],
   "source": [
    "# Exercise 6.1\n",
    "from merkleblock import MerkleTree\n",
    "from helper import merkle_parent\n",
    "\n",
    "hex_hashes = [\n",
    "    '42f6f52f17620653dcc909e58bb352e0bd4bd1381e2955d19c00959a22122b2e',\n",
    "    '94c3af34b9667bf787e1c6a0a009201589755d01d02fe2877cc69b929d2418d4',\n",
    "    '959428d7c48113cb9149d0566bde3d46e98cf028053c522b8fa8f735241aa953',\n",
    "    'a9f27b99d5d108dede755710d4a1ffa2c74af70b4ca71726fa57d68454e609a2',\n",
    "    '62af110031e29de1efcad103b3ad4bec7bdcf6cb9c9f4afdd586981795516577',\n",
    "    '766900590ece194667e9da2984018057512887110bf54fe0aa800157aec796ba',\n",
    "    'e8270fb475763bc8d855cfe45ed98060988c1bdcad2ffc8364f783c98999a208',\n",
    "    '921b8cfd3e14bf41f028f0a3aa88c813d5039a2b1bceb12208535b0b43a5d09e',\n",
    "]\n",
    "# create an empty Merkle Tree\n",
    "tree = MerkleTree(len(hex_hashes))\n",
    "# set the bottom layer to be the binary version of the hex hashes\n",
    "tree.nodes[3] = [bytes.fromhex(h) for h in hex_hashes]\n",
    "# loop until the root is populated\n",
    "while tree.root() is None:\n",
    "    # if we have a leaf node\n",
    "    if tree.is_leaf():\n",
    "        # navigate up\n",
    "        tree.up()\n",
    "    else:\n",
    "        # get the left and right hashes\n",
    "        left_hash = tree.get_left_node()\n",
    "        right_hash = tree.get_right_node()\n",
    "        # we need both left and right to compute the current node\n",
    "        if left_hash is None:\n",
    "            # navigate to the left\n",
    "            tree.left()\n",
    "        elif right_hash is None:\n",
    "            # navigate to the right\n",
    "            tree.right()\n",
    "        else:\n",
    "            # combine left and right to set the current one\n",
    "            tree.set_current_node(merkle_parent(left_hash, right_hash))\n",
    "            # we're done with this sub-tree, navigate up\n",
    "            tree.up()\n",
    "print(tree)"
   ]
  },
  {
   "cell_type": "code",
   "execution_count": 20,
   "metadata": {},
   "outputs": [
    {
     "name": "stderr",
     "output_type": "stream",
     "text": [
      ".\n",
      "----------------------------------------------------------------------\n",
      "Ran 1 test in 0.001s\n",
      "\n",
      "OK\n"
     ]
    }
   ],
   "source": [
    "# Exercise 6.2\n",
    "\n",
    "reload(merkleblock)\n",
    "run_test(merkleblock.MerkleTreeTest('test_populate_tree_1'))"
   ]
  },
  {
   "cell_type": "code",
   "execution_count": 21,
   "metadata": {},
   "outputs": [
    {
     "name": "stdout",
     "output_type": "stream",
     "text": [
      "dc87b7e3..., \n",
      "6382df3f..., 6440941e..., \n",
      "3ba6c080..., 8e894862..., 7ab01bb6..., 996be980..., \n",
      "272945ec..., 9a38d037..., 4a64abd9..., ec7c95e1..., 3b67006c..., 850683df..., d40d268b..., f542a085..., \n",
      "9745f717..., 5573c8ed..., 82a02ecb..., 507ccae5..., a7a4aec2..., bb626766..., ea6d7ac1..., 45774386..., 76880292..., b1ae7f15..., 9b74f89f..., b3a92b5b..., b5c0b915..., c9d52c5c..., c555bc5f..., \n",
      "\n"
     ]
    }
   ],
   "source": [
    "# Merkle Tree Populating Example #3\n",
    "reload(merkleblock)\n",
    "from merkleblock import MerkleTree\n",
    "from helper import merkle_parent\n",
    "\n",
    "hex_hashes = [\n",
    "    \"9745f7173ef14ee4155722d1cbf13304339fd00d900b759c6f9d58579b5765fb\",\n",
    "    \"5573c8ede34936c29cdfdfe743f7f5fdfbd4f54ba0705259e62f39917065cb9b\",\n",
    "    \"82a02ecbb6623b4274dfcab82b336dc017a27136e08521091e443e62582e8f05\",\n",
    "    \"507ccae5ed9b340363a0e6d765af148be9cb1c8766ccc922f83e4ae681658308\",\n",
    "    \"a7a4aec28e7162e1e9ef33dfa30f0bc0526e6cf4b11a576f6c5de58593898330\",\n",
    "    \"bb6267664bd833fd9fc82582853ab144fece26b7a8a5bf328f8a059445b59add\",\n",
    "    \"ea6d7ac1ee77fbacee58fc717b990c4fcccf1b19af43103c090f601677fd8836\",\n",
    "    \"457743861de496c429912558a106b810b0507975a49773228aa788df40730d41\",\n",
    "    \"7688029288efc9e9a0011c960a6ed9e5466581abf3e3a6c26ee317461add619a\",\n",
    "    \"b1ae7f15836cb2286cdd4e2c37bf9bb7da0a2846d06867a429f654b2e7f383c9\",\n",
    "    \"9b74f89fa3f93e71ff2c241f32945d877281a6a50a6bf94adac002980aafe5ab\",\n",
    "    \"b3a92b5b255019bdaf754875633c2de9fec2ab03e6b8ce669d07cb5b18804638\",\n",
    "    \"b5c0b915312b9bdaedd2b86aa2d0f8feffc73a2d37668fd9010179261e25e263\",\n",
    "    \"c9d52c5cb1e557b92c84c52e7c4bfbce859408bedffc8a5560fd6e35e10b8800\",\n",
    "    \"c555bc5fc3bc096df0a0c9532f07640bfb76bfe4fc1ace214b8b228a1297a4c2\",\n",
    "]\n",
    "tree = MerkleTree(len(hex_hashes))\n",
    "tree.nodes[4] = [bytes.fromhex(h) for h in hex_hashes]\n",
    "while tree.root() is None:\n",
    "    if tree.is_leaf():\n",
    "        tree.up()\n",
    "    else:\n",
    "        left_hash = tree.get_left_node()\n",
    "        if left_hash is None:\n",
    "            tree.left()\n",
    "        elif tree.right_exists():\n",
    "            right_hash = tree.get_right_node()\n",
    "            if right_hash is None:\n",
    "                tree.right()\n",
    "            else:\n",
    "                tree.set_current_node(merkle_parent(left_hash, right_hash))\n",
    "                tree.up()\n",
    "        else:\n",
    "            tree.set_current_node(merkle_parent(left_hash, left_hash))\n",
    "            tree.up()\n",
    "print(tree)"
   ]
  },
  {
   "cell_type": "markdown",
   "metadata": {},
   "source": [
    "### Exercise 7\n",
    "\n",
    "#### 7.1. Populate this Merkle Tree given the 5 hashes\n",
    "Transaction Hashes:\n",
    "```\n",
    "42f6f52f17620653dcc909e58bb352e0bd4bd1381e2955d19c00959a22122b2e\n",
    "94c3af34b9667bf787e1c6a0a009201589755d01d02fe2877cc69b929d2418d4\n",
    "959428d7c48113cb9149d0566bde3d46e98cf028053c522b8fa8f735241aa953\n",
    "a9f27b99d5d108dede755710d4a1ffa2c74af70b4ca71726fa57d68454e609a2\n",
    "62af110031e29de1efcad103b3ad4bec7bdcf6cb9c9f4afdd586981795516577\n",
    "```\n",
    "\n",
    "#### 7.2. Make [this test](/edit/session7/merkleblock.py) pass.\n",
    "```\n",
    "merkleblock.py:MerkleTreeTest:test_populate_tree_2\n",
    "```"
   ]
  },
  {
   "cell_type": "code",
   "execution_count": 22,
   "metadata": {},
   "outputs": [
    {
     "name": "stdout",
     "output_type": "stream",
     "text": [
      "a8e8bd02..., \n",
      "e2e5af20..., 4e1f780d..., \n",
      "d7fb8a90..., 4e7a9ff0..., 610b17d5..., \n",
      "42f6f52f..., 94c3af34..., 959428d7..., a9f27b99..., 62af1100..., \n",
      "\n"
     ]
    }
   ],
   "source": [
    "# Exercise 7.1\n",
    "from merkleblock import MerkleTree\n",
    "from helper import merkle_parent\n",
    "\n",
    "hex_hashes = [\n",
    "    '42f6f52f17620653dcc909e58bb352e0bd4bd1381e2955d19c00959a22122b2e',\n",
    "    '94c3af34b9667bf787e1c6a0a009201589755d01d02fe2877cc69b929d2418d4',\n",
    "    '959428d7c48113cb9149d0566bde3d46e98cf028053c522b8fa8f735241aa953',\n",
    "    'a9f27b99d5d108dede755710d4a1ffa2c74af70b4ca71726fa57d68454e609a2',\n",
    "    '62af110031e29de1efcad103b3ad4bec7bdcf6cb9c9f4afdd586981795516577',\n",
    "]\n",
    "# create an empty Merkle Tree\n",
    "tree = MerkleTree(len(hex_hashes))\n",
    "# set the bottom layer to be the binary version of the hex hashes\n",
    "tree.nodes[3] = [bytes.fromhex(h) for h in hex_hashes]\n",
    "# loop until the root is populated\n",
    "while tree.root() is None:\n",
    "    # if we have a leaf node\n",
    "    if tree.is_leaf():\n",
    "        # navigate up\n",
    "        tree.up()\n",
    "    else:\n",
    "        # get the left hash\n",
    "        left_hash = tree.get_left_node()\n",
    "        # check to see if we have the left one\n",
    "        if left_hash is None:\n",
    "            # navigate to the left\n",
    "            tree.left()\n",
    "        elif tree.right_exists():\n",
    "            # if the right one exists, then we need to combine left and right\n",
    "            right_hash = tree.get_right_node()\n",
    "            # check to see if the right one exists\n",
    "            if right_hash is None:\n",
    "                # navigate to the right one\n",
    "                tree.right()\n",
    "            else:\n",
    "                # combine left and right\n",
    "                tree.set_current_node(merkle_parent(left_hash, right_hash))\n",
    "                # subtree is done, navigate up\n",
    "                tree.up()\n",
    "        else:\n",
    "            # right doesn't exist, but left does. combine left twice\n",
    "            tree.set_current_node(merkle_parent(left_hash, left_hash))\n",
    "            # subtree is done, navigate up\n",
    "            tree.up()\n",
    "print(tree)"
   ]
  },
  {
   "cell_type": "code",
   "execution_count": 23,
   "metadata": {},
   "outputs": [
    {
     "name": "stderr",
     "output_type": "stream",
     "text": [
      ".\n",
      "----------------------------------------------------------------------\n",
      "Ran 1 test in 0.001s\n",
      "\n",
      "OK\n"
     ]
    }
   ],
   "source": [
    "# Exercise 7.2\n",
    "\n",
    "reload(merkleblock)\n",
    "run_test(merkleblock.MerkleTreeTest('test_populate_tree_2'))"
   ]
  },
  {
   "cell_type": "markdown",
   "metadata": {},
   "source": [
    "### Exercise 8\n",
    "\n",
    "#### Check the cheat sheet for the network message structure.\n",
    "\n",
    "#### 8.1. Parse this message\n",
    "```\n",
    "f9beb4d976657261636b000000000000000000005df6e0e2\n",
    "```\n",
    "\n",
    "#### 8.2. Make [these tests](/edit/session7/network.py) pass.\n",
    "```\n",
    "network.py:NetworkTest:test_parse\n",
    "network.py:NetworkTest:test_serialize\n",
    "```"
   ]
  },
  {
   "cell_type": "code",
   "execution_count": 24,
   "metadata": {},
   "outputs": [
    {
     "name": "stdout",
     "output_type": "stream",
     "text": [
      "b'verack\\x00\\x00\\x00\\x00\\x00\\x00'\n"
     ]
    }
   ],
   "source": [
    "# Exercise 8.1\n",
    "\n",
    "msg = bytes.fromhex('f9beb4d976657261636b000000000000000000005df6e0e2')\n",
    "\n",
    "# first 4 are network magic\n",
    "magic = msg[:4]\n",
    "# next 12 are command\n",
    "command = msg[4:16]\n",
    "# next 4 are payload length\n",
    "payload_length = msg[16:20]\n",
    "# next 4 are checksum\n",
    "checksum = msg[20:24]\n",
    "# rest is payload\n",
    "payload = msg[24:]\n",
    "print(command)"
   ]
  },
  {
   "cell_type": "code",
   "execution_count": 25,
   "metadata": {},
   "outputs": [
    {
     "name": "stderr",
     "output_type": "stream",
     "text": [
      ".\n",
      "----------------------------------------------------------------------\n",
      "Ran 1 test in 0.001s\n",
      "\n",
      "OK\n",
      ".\n",
      "----------------------------------------------------------------------\n",
      "Ran 1 test in 0.000s\n",
      "\n",
      "OK\n"
     ]
    }
   ],
   "source": [
    "# Exercise 8.2\n",
    "\n",
    "reload(network)\n",
    "run_test(network.NetworkEnvelopeTest('test_parse'))\n",
    "run_test(network.NetworkEnvelopeTest('test_serialize'))"
   ]
  },
  {
   "cell_type": "markdown",
   "metadata": {},
   "source": [
    "### Exercise 9\n",
    "\n",
    "#### 9.1. Make [this test](/edit/session7/network.py) pass.\n",
    "```\n",
    "network.py:VersionMessageTest:test_serialize\n",
    "```\n",
    "#### 9.2. Make [this test](/edit/session7/network.py) pass.\n",
    "```\n",
    "network.py:GetHeadersMessageTest:test_serialize\n",
    "```"
   ]
  },
  {
   "cell_type": "code",
   "execution_count": 26,
   "metadata": {},
   "outputs": [
    {
     "name": "stderr",
     "output_type": "stream",
     "text": [
      ".\n",
      "----------------------------------------------------------------------\n",
      "Ran 1 test in 0.001s\n",
      "\n",
      "OK\n"
     ]
    }
   ],
   "source": [
    "# Exercise 9.1\n",
    "\n",
    "reload(network)\n",
    "run_test(network.VersionMessageTest('test_serialize'))"
   ]
  },
  {
   "cell_type": "code",
   "execution_count": 27,
   "metadata": {},
   "outputs": [
    {
     "name": "stderr",
     "output_type": "stream",
     "text": [
      ".\n",
      "----------------------------------------------------------------------\n",
      "Ran 1 test in 0.001s\n",
      "\n",
      "OK\n"
     ]
    }
   ],
   "source": [
    "# Exercise 9.2\n",
    "\n",
    "reload(network)\n",
    "run_test(network.GetHeadersMessageTest('test_serialize'))"
   ]
  },
  {
   "cell_type": "code",
   "execution_count": 28,
   "metadata": {},
   "outputs": [
    {
     "name": "stdout",
     "output_type": "stream",
     "text": [
      "sending: version: 7f1101000000000000000000d393885b00000000000000000000000000000000000000000000ffff000000008d20000000000000000000000000000000000000ffff000000008d20e59f757cbe70531f1b2f70726f6772616d6d696e67626c6f636b636861696e3a302e312f0000000001\n",
      "receiving: version: 7f1101000d04000000000000d593885b00000000000000000000000000000000000000000000ffff4830fd33cd510d04000000000000000000000000000000000000000000000000aa6468d82f0a17c9102f5361746f7368693a302e31362e302f4f8b150001\n",
      "sending: verack: \n",
      "receiving: verack: \n",
      "verack: \n"
     ]
    }
   ],
   "source": [
    "# Handshake Example\n",
    "\n",
    "from network import SimpleNode, VersionMessage\n",
    "\n",
    "node = SimpleNode('tbtc.programmingblockchain.com', testnet=True, logging=True)\n",
    "\n",
    "node.send(b'version', VersionMessage().serialize())\n",
    "print(node.wait_for_commands([b'verack']))"
   ]
  },
  {
   "cell_type": "markdown",
   "metadata": {},
   "source": [
    "### Exercise 10\n",
    "\n",
    "#### 10.1. Get a response from the server. You will have to edit [this](/edit/session7/network.py).\n"
   ]
  },
  {
   "cell_type": "code",
   "execution_count": 29,
   "metadata": {},
   "outputs": [
    {
     "name": "stdout",
     "output_type": "stream",
     "text": [
      "sending: version: 7f1101000000000000000000d893885b00000000000000000000000000000000000000000000ffff000000008d20000000000000000000000000000000000000ffff000000008d20ce3b2913422d73b71b2f70726f6772616d6d696e67626c6f636b636861696e3a302e312f0000000001\n",
      "receiving: version: 7f1101000d04000000000000db93885b00000000000000000000000000000000000000000000ffff4830fd33cd530d04000000000000000000000000000000000000000000000000b6c6295bc74f423e102f5361746f7368693a302e31362e302f4f8b150001\n",
      "sending: verack: \n",
      "receiving: verack: \n",
      "sending: ping: 3132333435363738\n",
      "receiving: sendheaders: \n",
      "receiving: sendcmpct: 000200000000000000\n",
      "receiving: sendcmpct: 000100000000000000\n",
      "receiving: ping: 8efe07942fb2d4e1\n",
      "sending: pong: 8efe07942fb2d4e1\n",
      "receiving: addr: 01db93885b0d0400000000000000000000000000000000ffffa2d49eac479d\n",
      "receiving: feefilter: e803000000000000\n",
      "receiving: pong: 3132333435363738\n"
     ]
    }
   ],
   "source": [
    "# Exercise 10.1\n",
    "\n",
    "reload(network)\n",
    "\n",
    "node = SimpleNode('tbtc.programmingblockchain.com', testnet=True, logging=True)\n",
    "node.handshake()\n",
    "nonce = b'12345678'\n",
    "node.send(b'ping', nonce)\n",
    "envelope = node.wait_for_commands([b'pong'])\n",
    "\n",
    "if envelope.payload != nonce:\n",
    "    raise RuntimeError('bad nonce: {} vs {}'.format(nonce, envelope.payload))"
   ]
  }
 ],
 "metadata": {
  "kernelspec": {
   "display_name": "Python 3",
   "language": "python",
   "name": "python3"
  },
  "language_info": {
   "codemirror_mode": {
    "name": "ipython",
    "version": 3
   },
   "file_extension": ".py",
   "mimetype": "text/x-python",
   "name": "python",
   "nbconvert_exporter": "python",
   "pygments_lexer": "ipython3",
   "version": "3.6.5"
  }
 },
 "nbformat": 4,
 "nbformat_minor": 2
}
