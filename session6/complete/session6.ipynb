{
 "cells": [
  {
   "cell_type": "code",
   "execution_count": 1,
   "id": "b66fd62c",
   "metadata": {},
   "outputs": [],
   "source": [
    "############## PLEASE RUN THIS CELL FIRST! ###################\n",
    "\n",
    "# import everything and define a test runner function\n",
    "from importlib import reload\n",
    "from helper import run\n",
    "import block, tx"
   ]
  },
  {
   "cell_type": "markdown",
   "id": "da163caf",
   "metadata": {},
   "source": [
    "### Exercise 1\n",
    "\n",
    "\n",
    "\n",
    "\n",
    "#### Make [this test](/edit/session6/tx.py) pass: `tx.py:TxTest:test_is_coinbase`"
   ]
  },
  {
   "cell_type": "code",
   "execution_count": 2,
   "id": "7296c95e",
   "metadata": {},
   "outputs": [
    {
     "name": "stderr",
     "output_type": "stream",
     "text": [
      ".\n",
      "----------------------------------------------------------------------\n",
      "Ran 1 test in 0.001s\n",
      "\n",
      "OK\n"
     ]
    }
   ],
   "source": [
    "# Exercise 1\n",
    "\n",
    "reload(tx)\n",
    "run(tx.TxTest('test_is_coinbase'))"
   ]
  },
  {
   "cell_type": "markdown",
   "id": "28ecbde0",
   "metadata": {},
   "source": [
    "### Exercise 2\n",
    "Parse the Genesis Block Coinbase Transaction and print out the scriptSig's third item\n",
    "\n",
    "```\n",
    "01000000010000000000000000000000000000000000000000000000000000000000000000ffffffff4d04ffff001d0104455468652054696d65732030332f4a616e2f32303039204368616e63656c6c6f72206f6e206272696e6b206f66207365636f6e64206261696c6f757420666f722062616e6b73ffffffff0100f2052a01000000434104678afdb0fe5548271967f1a67130b7105cd6a828e03909a67962e0ea1f61deb649f6bc3f4cef38c4f35504e51ec112de5c384df7ba0b8d578a4c702b6bf11d5fac00000000\n",
    "```\n"
   ]
  },
  {
   "cell_type": "code",
   "execution_count": 3,
   "id": "96a551eb",
   "metadata": {},
   "outputs": [
    {
     "name": "stdout",
     "output_type": "stream",
     "text": [
      "b'The Times 03/Jan/2009 Chancellor on brink of second bailout for banks'\n"
     ]
    }
   ],
   "source": [
    "# Exercise 2\n",
    "\n",
    "from io import BytesIO\n",
    "from tx import Tx\n",
    "hex_tx = '01000000010000000000000000000000000000000000000000000000000000000000000000ffffffff4d04ffff001d0104455468652054696d65732030332f4a616e2f32303039204368616e63656c6c6f72206f6e206272696e6b206f66207365636f6e64206261696c6f757420666f722062616e6b73ffffffff0100f2052a01000000434104678afdb0fe5548271967f1a67130b7105cd6a828e03909a67962e0ea1f61deb649f6bc3f4cef38c4f35504e51ec112de5c384df7ba0b8d578a4c702b6bf11d5fac00000000'\n",
    "# create stream with BytesIO and bytes.fromhex\n",
    "stream = BytesIO(bytes.fromhex(hex_tx))\n",
    "# parse the coinbase transaction\n",
    "coinbase = Tx.parse(stream)\n",
    "# print the first input's script_sig's third command\n",
    "print(coinbase.tx_ins[0].script_sig.commands[2])"
   ]
  },
  {
   "cell_type": "markdown",
   "id": "0386b3f9",
   "metadata": {},
   "source": [
    "### Exercise 3\n",
    "\n",
    "\n",
    "\n",
    "\n",
    "#### Make [this test](/edit/session6/tx.py) pass: `tx.py:TxTest:test_coinbase_height`"
   ]
  },
  {
   "cell_type": "code",
   "execution_count": 4,
   "id": "7c754573",
   "metadata": {},
   "outputs": [
    {
     "name": "stderr",
     "output_type": "stream",
     "text": [
      ".\n",
      "----------------------------------------------------------------------\n",
      "Ran 1 test in 0.001s\n",
      "\n",
      "OK\n"
     ]
    }
   ],
   "source": [
    "# Exercise 3\n",
    "\n",
    "reload(tx)\n",
    "run(tx.TxTest('test_coinbase_height'))"
   ]
  },
  {
   "cell_type": "code",
   "execution_count": 5,
   "id": "7c7b91d3",
   "metadata": {},
   "outputs": [
    {
     "name": "stdout",
     "output_type": "stream",
     "text": [
      "1250000000\n"
     ]
    }
   ],
   "source": [
    "# Block Subsidy Example\n",
    "block_height = 465879\n",
    "epoch = block_height // 210000\n",
    "subsidy = 5000000000 >> epoch\n",
    "print(subsidy)"
   ]
  },
  {
   "cell_type": "markdown",
   "id": "ed90ef48",
   "metadata": {},
   "source": [
    "### Exercise 4\n",
    "\n",
    "\n",
    "\n",
    "\n",
    "#### Make [this test](/edit/session6/tx.py) pass: `tx.py:TxTest:test_coinbase_block_subsidy`"
   ]
  },
  {
   "cell_type": "code",
   "execution_count": 6,
   "id": "99b91615",
   "metadata": {},
   "outputs": [
    {
     "name": "stderr",
     "output_type": "stream",
     "text": [
      ".\n",
      "----------------------------------------------------------------------\n",
      "Ran 1 test in 0.001s\n",
      "\n",
      "OK\n"
     ]
    }
   ],
   "source": [
    "# Exercise 4\n",
    "\n",
    "reload(tx)\n",
    "run(tx.TxTest('test_coinbase_block_subsidy'))"
   ]
  },
  {
   "cell_type": "markdown",
   "id": "3cdbb383",
   "metadata": {},
   "source": [
    "### Exercise 5\n",
    "What is the hash256 of this block? Notice anything?\n",
    "```\n",
    "020000208ec39428b17323fa0ddec8e887b4a7c53b8c0a0a220cfd0000000000000000005b0750fce0a889502d40508d39576821155e9c9e3f5c3157f961db38fd8b25be1e77a759e93c0118a4ffd71d\n",
    "```\n"
   ]
  },
  {
   "cell_type": "code",
   "execution_count": 7,
   "id": "146c47d5",
   "metadata": {},
   "outputs": [
    {
     "name": "stdout",
     "output_type": "stream",
     "text": [
      "2375044d646ad73594dd0b37b113becdb03964584c9e7e000000000000000000\n"
     ]
    }
   ],
   "source": [
    "# Exercise 5\n",
    "\n",
    "from helper import hash256\n",
    "hex_block = '020000208ec39428b17323fa0ddec8e887b4a7c53b8c0a0a220cfd0000000000000000005b0750fce0a889502d40508d39576821155e9c9e3f5c3157f961db38fd8b25be1e77a759e93c0118a4ffd71d'\n",
    "# bytes.fromhex to get the binary\n",
    "bin_block = bytes.fromhex(hex_block)\n",
    "# hash256 the result\n",
    "result = hash256(bin_block)\n",
    "# hex() to see what it looks like\n",
    "print(result.hex())"
   ]
  },
  {
   "cell_type": "markdown",
   "id": "dde0e918",
   "metadata": {},
   "source": [
    "### Exercise 6\n",
    "\n",
    "\n",
    "\n",
    "\n",
    "#### Make [this test](/edit/session6/block.py) pass: `block.py:BlockTest:test_parse`"
   ]
  },
  {
   "cell_type": "code",
   "execution_count": 8,
   "id": "ae5ae170",
   "metadata": {},
   "outputs": [
    {
     "name": "stderr",
     "output_type": "stream",
     "text": [
      ".\n",
      "----------------------------------------------------------------------\n",
      "Ran 1 test in 0.000s\n",
      "\n",
      "OK\n"
     ]
    }
   ],
   "source": [
    "# Exercise 6\n",
    "\n",
    "reload(block)\n",
    "run(block.BlockTest('test_parse'))"
   ]
  },
  {
   "cell_type": "markdown",
   "id": "107ebf73",
   "metadata": {},
   "source": [
    "### Exercise 7\n",
    "\n",
    "\n",
    "\n",
    "\n",
    "#### Make [this test](/edit/session6/block.py) pass: `block.py:BlockTest:test_serialize`"
   ]
  },
  {
   "cell_type": "code",
   "execution_count": 9,
   "id": "f683738a",
   "metadata": {},
   "outputs": [
    {
     "name": "stderr",
     "output_type": "stream",
     "text": [
      ".\n",
      "----------------------------------------------------------------------\n",
      "Ran 1 test in 0.000s\n",
      "\n",
      "OK\n"
     ]
    }
   ],
   "source": [
    "# Exercise 7\n",
    "\n",
    "reload(block)\n",
    "run(block.BlockTest('test_serialize'))"
   ]
  },
  {
   "cell_type": "markdown",
   "id": "d21603e3",
   "metadata": {},
   "source": [
    "### Exercise 8\n",
    "\n",
    "\n",
    "\n",
    "\n",
    "#### Make [this test](/edit/session6/block.py) pass: `block.py:BlockTest:test_hash`"
   ]
  },
  {
   "cell_type": "code",
   "execution_count": 10,
   "id": "a858575d",
   "metadata": {},
   "outputs": [
    {
     "name": "stderr",
     "output_type": "stream",
     "text": [
      ".\n",
      "----------------------------------------------------------------------\n",
      "Ran 1 test in 0.000s\n",
      "\n",
      "OK\n"
     ]
    }
   ],
   "source": [
    "# Exercise 8\n",
    "\n",
    "reload(block)\n",
    "run(block.BlockTest('test_hash'))"
   ]
  },
  {
   "cell_type": "code",
   "execution_count": 11,
   "id": "c603768b",
   "metadata": {},
   "outputs": [
    {
     "name": "stdout",
     "output_type": "stream",
     "text": [
      "BIP9: True\n",
      "BIP112: False\n",
      "BIP141: True\n",
      "BIP341: False\n",
      "BIP91: False\n"
     ]
    }
   ],
   "source": [
    "# Version Signaling Example\n",
    "from block import Block\n",
    "from io import BytesIO\n",
    "hex_block = '020000208ec39428b17323fa0ddec8e887b4a7c53b8c0a0a220cfd0000000000000000005b0750fce0a889502d40508d39576821155e9c9e3f5c3157f961db38fd8b25be1e77a759e93c0118a4ffd71d'\n",
    "bin_block = bytes.fromhex(hex_block)\n",
    "stream = BytesIO(bin_block)\n",
    "b = Block.parse(stream)\n",
    "version = b.version\n",
    "print(f'BIP9: {version >> 29 == 0b001}')\n",
    "print(f'BIP112: {version >> 0 & 1 == 1}')\n",
    "print(f'BIP141: {version >> 1 & 1 == 1}')\n",
    "print(f'BIP341: {version >> 2 & 1 == 1}')\n",
    "print(f'BIP91: {version >> 4 & 1 == 1}')"
   ]
  },
  {
   "cell_type": "markdown",
   "id": "7bea8dc2",
   "metadata": {},
   "source": [
    "### Exercise 9\n",
    "\n",
    "\n",
    "\n",
    "\n",
    "#### Make [this test](/edit/session6/block.py) pass: `block.py:BlockTest:test_bip9`"
   ]
  },
  {
   "cell_type": "code",
   "execution_count": 12,
   "id": "ef7533c7",
   "metadata": {},
   "outputs": [
    {
     "name": "stderr",
     "output_type": "stream",
     "text": [
      ".\n",
      "----------------------------------------------------------------------\n",
      "Ran 1 test in 0.000s\n",
      "\n",
      "OK\n"
     ]
    }
   ],
   "source": [
    "# Exercise 9\n",
    "\n",
    "reload(block)\n",
    "run(block.BlockTest('test_bip9'))"
   ]
  },
  {
   "cell_type": "markdown",
   "id": "04e78534",
   "metadata": {},
   "source": [
    "### Exercise 10\n",
    "\n",
    "\n",
    "\n",
    "\n",
    "#### Make [this test](/edit/session6/block.py) pass: `block.py:BlockTest:test_bip112`"
   ]
  },
  {
   "cell_type": "code",
   "execution_count": 13,
   "id": "449aba71",
   "metadata": {},
   "outputs": [
    {
     "name": "stderr",
     "output_type": "stream",
     "text": [
      ".\n",
      "----------------------------------------------------------------------\n",
      "Ran 1 test in 0.000s\n",
      "\n",
      "OK\n"
     ]
    }
   ],
   "source": [
    "# Exercise 10\n",
    "\n",
    "reload(block)\n",
    "run(block.BlockTest('test_bip112'))"
   ]
  },
  {
   "cell_type": "markdown",
   "id": "716b052a",
   "metadata": {},
   "source": [
    "### Exercise 11\n",
    "\n",
    "\n",
    "\n",
    "\n",
    "#### Make [this test](/edit/session6/block.py) pass: `block.py:BlockTest:test_bip141`"
   ]
  },
  {
   "cell_type": "code",
   "execution_count": 14,
   "id": "ae9f36d0",
   "metadata": {},
   "outputs": [
    {
     "name": "stderr",
     "output_type": "stream",
     "text": [
      ".\n",
      "----------------------------------------------------------------------\n",
      "Ran 1 test in 0.000s\n",
      "\n",
      "OK\n"
     ]
    }
   ],
   "source": [
    "# Exercise 11\n",
    "\n",
    "reload(block)\n",
    "run(block.BlockTest('test_bip141'))"
   ]
  },
  {
   "cell_type": "markdown",
   "id": "16a45f89",
   "metadata": {},
   "source": [
    "### Exercise 12\n",
    "\n",
    "\n",
    "\n",
    "\n",
    "#### Make [this test](/edit/session6/block.py) pass: `block.py:BlockTest:test_bip341`"
   ]
  },
  {
   "cell_type": "code",
   "execution_count": 15,
   "id": "24f665bc",
   "metadata": {},
   "outputs": [
    {
     "name": "stderr",
     "output_type": "stream",
     "text": [
      ".\n",
      "----------------------------------------------------------------------\n",
      "Ran 1 test in 0.000s\n",
      "\n",
      "OK\n"
     ]
    }
   ],
   "source": [
    "# Exercise 12\n",
    "\n",
    "reload(block)\n",
    "run(block.BlockTest('test_bip341'))"
   ]
  },
  {
   "cell_type": "markdown",
   "id": "235ec973",
   "metadata": {},
   "source": [
    "### Exercise 13\n",
    "\n",
    "\n",
    "\n",
    "\n",
    "#### Make [this test](/edit/session6/block.py) pass: `block.py:BlockTest:test_bip91`"
   ]
  },
  {
   "cell_type": "code",
   "execution_count": 16,
   "id": "cda1cb3c",
   "metadata": {},
   "outputs": [
    {
     "name": "stderr",
     "output_type": "stream",
     "text": [
      ".\n",
      "----------------------------------------------------------------------\n",
      "Ran 1 test in 0.000s\n",
      "\n",
      "OK\n"
     ]
    }
   ],
   "source": [
    "# Exercise 13\n",
    "\n",
    "reload(block)\n",
    "run(block.BlockTest('test_bip91'))"
   ]
  },
  {
   "cell_type": "code",
   "execution_count": 17,
   "id": "84e9dfac",
   "metadata": {},
   "outputs": [
    {
     "name": "stdout",
     "output_type": "stream",
     "text": [
      "0000000000000000013ce9000000000000000000000000000000000000000000\n"
     ]
    }
   ],
   "source": [
    "# Calculating Target from Bits Example\n",
    "from helper import little_endian_to_int\n",
    "bits = bytes.fromhex('e93c0118')\n",
    "exponent = bits[-1]\n",
    "coefficient = little_endian_to_int(bits[:-1])\n",
    "target = coefficient*256**(exponent-3)\n",
    "print(f'{target:x}'.zfill(64))"
   ]
  },
  {
   "cell_type": "code",
   "execution_count": 18,
   "id": "a546bf57",
   "metadata": {},
   "outputs": [
    {
     "name": "stdout",
     "output_type": "stream",
     "text": [
      "888171856257\n"
     ]
    }
   ],
   "source": [
    "# Calculating Difficulty from Target Example\n",
    "from helper import little_endian_to_int\n",
    "bits = bytes.fromhex('e93c0118')\n",
    "exponent = bits[-1]\n",
    "coefficient = little_endian_to_int(bits[:-1])\n",
    "target = coefficient * 256**(exponent - 3)\n",
    "min_target = 0xffff * 256**(0x1d - 3)\n",
    "difficulty = min_target // target\n",
    "print(difficulty)"
   ]
  },
  {
   "cell_type": "markdown",
   "id": "1c7f8698",
   "metadata": {},
   "source": [
    "### Exercise 14\n",
    "Calculate the target and difficulty for these bits:\n",
    "```\n",
    "f2881718\n",
    "```\n",
    "\n",
    "Bits to target formula is\n",
    "\n",
    "\\\\(\\texttt{coefficient}\\cdot256^{(\\texttt{exponent}-3)}\\\\)\n",
    "\n",
    "where coefficient is the first three bytes in little endian and exponent is the last byte.\n",
    "\n",
    "Target to Difficulty formula is\n",
    "\n",
    "\\\\(\\texttt{difficulty} = \\texttt{min} / \\texttt{target}\\\\)\n",
    "\n",
    "where \\\\(\\texttt{min} = \\texttt{0xffff}\\cdot256^{(\\texttt{0x1d}-3)}\\\\)\n"
   ]
  },
  {
   "cell_type": "code",
   "execution_count": 19,
   "id": "833031e4",
   "metadata": {},
   "outputs": [
    {
     "name": "stdout",
     "output_type": "stream",
     "text": [
      "00000000000000001788f2000000000000000000000000000000000000000000\n",
      "46717549644\n"
     ]
    }
   ],
   "source": [
    "# Exercise 14\n",
    "\n",
    "from helper import little_endian_to_int\n",
    "hex_bits = 'f2881718'\n",
    "# bytes.fromhex to get the bits\n",
    "bits = bytes.fromhex(hex_bits)\n",
    "# last byte is exponent\n",
    "exponent = bits[-1]\n",
    "# first three bytes are the coefficient in little endian\n",
    "coefficient = little_endian_to_int(bits[:-1])\n",
    "# plug into formula coefficient * 256^(exponent-3) to get the target\n",
    "target = coefficient * 256**(exponent-3)\n",
    "# print target using print(f'{target:x}'.zfill(64))\n",
    "print(f'{target:x}'.zfill(64))\n",
    "# difficulty formula is 0xffff * 256**(0x1d - 3) / target\n",
    "difficulty = 0xffff * 256**(0x1d - 3) // target\n",
    "# print the difficulty\n",
    "print(difficulty)"
   ]
  },
  {
   "cell_type": "markdown",
   "id": "c49fa2b9",
   "metadata": {},
   "source": [
    "### Exercise 15\n",
    "\n",
    "\n",
    "\n",
    "\n",
    "#### Make [this test](/edit/session6/block.py) pass: `block.py:BlockTest:test_target`"
   ]
  },
  {
   "cell_type": "code",
   "execution_count": 20,
   "id": "bd3690af",
   "metadata": {},
   "outputs": [
    {
     "name": "stderr",
     "output_type": "stream",
     "text": [
      ".\n",
      "----------------------------------------------------------------------\n",
      "Ran 1 test in 0.000s\n",
      "\n",
      "OK\n"
     ]
    }
   ],
   "source": [
    "# Exercise 15\n",
    "\n",
    "reload(block)\n",
    "run(block.BlockTest('test_target'))"
   ]
  },
  {
   "cell_type": "markdown",
   "id": "0a3ac866",
   "metadata": {},
   "source": [
    "### Exercise 16\n",
    "Validate the proof-of-work for this block\n",
    "```\n",
    "04000000fbedbbf0cfdaf278c094f187f2eb987c86a199da22bbb20400000000000000007b7697b29129648fa08b4bcd13c9d5e60abb973a1efac9c8d573c71c807c56c3d6213557faa80518c3737ec1\n",
    "```\n",
    "\n",
    "Check that the proof-of-work (hash256 interpreted as a little-endian number) is lower than the target.\n"
   ]
  },
  {
   "cell_type": "code",
   "execution_count": 21,
   "id": "f21094ec",
   "metadata": {},
   "outputs": [
    {
     "name": "stdout",
     "output_type": "stream",
     "text": [
      "True\n"
     ]
    }
   ],
   "source": [
    "# Exercise 16\n",
    "\n",
    "from io import BytesIO\n",
    "from block import Block\n",
    "hex_block = '04000000fbedbbf0cfdaf278c094f187f2eb987c86a199da22bbb20400000000000000007b7697b29129648fa08b4bcd13c9d5e60abb973a1efac9c8d573c71c807c56c3d6213557faa80518c3737ec1'\n",
    "# bytes.fromhex to get the binary block\n",
    "bin_block = bytes.fromhex(hex_block)\n",
    "# make a stream using BytesIO\n",
    "stream = BytesIO(bin_block)\n",
    "# parse the Block\n",
    "block_obj = Block.parse(stream)\n",
    "# hash256 the serialization\n",
    "h256 = hash256(block_obj.serialize())\n",
    "# interpret the result as a number in little endian\n",
    "proof = little_endian_to_int(h256)\n",
    "# get the target\n",
    "target = block_obj.target()\n",
    "# check proof of work < target\n",
    "print(proof < target)"
   ]
  },
  {
   "cell_type": "markdown",
   "id": "b270d254",
   "metadata": {},
   "source": [
    "### Exercise 17\n",
    "\n",
    "\n",
    "\n",
    "\n",
    "#### Make [this test](/edit/session6/block.py) pass: `block.py:BlockTest:test_check_pow`"
   ]
  },
  {
   "cell_type": "code",
   "execution_count": 22,
   "id": "2b5d8026",
   "metadata": {},
   "outputs": [
    {
     "name": "stderr",
     "output_type": "stream",
     "text": [
      ".\n",
      "----------------------------------------------------------------------\n",
      "Ran 1 test in 0.000s\n",
      "\n",
      "OK\n"
     ]
    }
   ],
   "source": [
    "# Exercise 17\n",
    "\n",
    "reload(block)\n",
    "run(block.BlockTest('test_check_pow'))"
   ]
  },
  {
   "cell_type": "markdown",
   "id": "ed28e21a",
   "metadata": {},
   "source": [
    "### Exercise 18\n",
    "\n",
    "Calculate the new bits given the first and last blocks of this 2,016-block difficulty adjustment period:\n",
    "\n",
    "Block 471744:\n",
    "\n",
    "```\n",
    "000000203471101bbda3fe307664b3283a9ef0e97d9a38a7eacd8800000000000000000010c8aba8479bbaa5e0848152fd3c2289ca50e1c3e58c9a4faaafbdf5803c5448ddb845597e8b0118e43a81d3\n",
    "```\n",
    "\n",
    "Block 473759:\n",
    "\n",
    "```\n",
    "02000020f1472d9db4b563c35f97c428ac903f23b7fc055d1cfc26000000000000000000b3f449fcbe1bc4cfbcb8283a0d2c037f961a3fdf2b8bedc144973735eea707e1264258597e8b0118e5f00474\n",
    "```\n"
   ]
  },
  {
   "cell_type": "code",
   "execution_count": 23,
   "id": "0d7f8fa0",
   "metadata": {},
   "outputs": [
    {
     "name": "stdout",
     "output_type": "stream",
     "text": [
      "308d0118\n"
     ]
    }
   ],
   "source": [
    "# Exercise 18\n",
    "\n",
    "from io import BytesIO\n",
    "from block import Block, TWO_WEEKS, MAX_TARGET\n",
    "from helper import target_to_bits\n",
    "block1_hex = '000000203471101bbda3fe307664b3283a9ef0e97d9a38a7eacd8800000000000000000010c8aba8479bbaa5e0848152fd3c2289ca50e1c3e58c9a4faaafbdf5803c5448ddb845597e8b0118e43a81d3'\n",
    "block2_hex = '02000020f1472d9db4b563c35f97c428ac903f23b7fc055d1cfc26000000000000000000b3f449fcbe1bc4cfbcb8283a0d2c037f961a3fdf2b8bedc144973735eea707e1264258597e8b0118e5f00474'\n",
    "first_block = Block.parse(BytesIO(bytes.fromhex(block1_hex)))\n",
    "last_block = Block.parse(BytesIO(bytes.fromhex(block2_hex)))\n",
    "# calculate the differential in time between the two blocks\n",
    "time_differential = last_block.timestamp - first_block.timestamp\n",
    "# max differential is 4 * TWO_WEEKS\n",
    "if time_differential > TWO_WEEKS * 4:\n",
    "    time_differential = TWO_WEEKS * 4\n",
    "# min differential is TWO_WEEKS // 4\n",
    "if time_differential < TWO_WEEKS // 4:\n",
    "    time_differential = TWO_WEEKS // 4\n",
    "# formula for new target is target * time differential // TWO_WEEKS\n",
    "new_target = last_block.target() * time_differential // TWO_WEEKS\n",
    "# if the new target is bigger than MAX_TARGET, set to MAX_TARGET\n",
    "if new_target > MAX_TARGET:\n",
    "    new_target = MAX_TARGET\n",
    "# convert the target to bits\n",
    "new_bits = target_to_bits(new_target)\n",
    "# print the new bits in hex\n",
    "print(new_bits.hex())"
   ]
  },
  {
   "cell_type": "markdown",
   "id": "74bf48c5",
   "metadata": {},
   "source": [
    "### Exercise 19\n",
    "\n",
    "\n",
    "\n",
    "\n",
    "#### Make [this test](/edit/session6/block.py) pass: `block.py:BlockTest:test_new_bits`"
   ]
  },
  {
   "cell_type": "code",
   "execution_count": 24,
   "id": "42bef82f",
   "metadata": {},
   "outputs": [
    {
     "name": "stderr",
     "output_type": "stream",
     "text": [
      ".\n",
      "----------------------------------------------------------------------\n",
      "Ran 1 test in 0.000s\n",
      "\n",
      "OK\n"
     ]
    }
   ],
   "source": [
    "# Exercise 19\n",
    "\n",
    "reload(block)\n",
    "run(block.BlockTest('test_new_bits'))"
   ]
  }
 ],
 "metadata": {
  "kernelspec": {
   "display_name": "Python 3 (ipykernel)",
   "language": "python",
   "name": "python3"
  },
  "language_info": {
   "codemirror_mode": {
    "name": "ipython",
    "version": 3
   },
   "file_extension": ".py",
   "mimetype": "text/x-python",
   "name": "python",
   "nbconvert_exporter": "python",
   "pygments_lexer": "ipython3",
   "version": "3.11.5"
  }
 },
 "nbformat": 4,
 "nbformat_minor": 5
}
