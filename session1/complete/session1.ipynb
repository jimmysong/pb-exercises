{
 "cells": [
  {
   "cell_type": "code",
   "execution_count": 1,
   "metadata": {},
   "outputs": [],
   "source": [
    "# import everything and define a test runner function\n",
    "from importlib import reload\n",
    "from helper import run_test\n",
    "\n",
    "import ecc\n",
    "import helper"
   ]
  },
  {
   "cell_type": "markdown",
   "metadata": {},
   "source": [
    "### Exercise 1\n",
    "\n",
    "Remember the % operator does the actual modulo operation. Also remember that + and - need to be in () because in the order of operations % comes before + and -.\n",
    "\n",
    "#### 1.1. Solve these equations in F_31:\n",
    "\n",
    "```\n",
    "2+15=?\n",
    "17+21=?\n",
    "29-4=?\n",
    "15-30=?\n",
    "```\n",
    "\n",
    "#### 1.2. Make [these tests](/edit/session1/ecc.py) pass:\n",
    "```\n",
    "ecc.py:FieldElementTest:test_add\n",
    "ecc.py:FieldElementTest:test_sub\n",
    "```"
   ]
  },
  {
   "cell_type": "code",
   "execution_count": 2,
   "metadata": {},
   "outputs": [
    {
     "name": "stdout",
     "output_type": "stream",
     "text": [
      "17\n",
      "7\n",
      "25\n",
      "16\n"
     ]
    }
   ],
   "source": [
    "# Exercise 1.1\n",
    "\n",
    "# remember that % is the modulo operator\n",
    "prime = 31\n",
    "# 2+15=?\n",
    "print((2+15) % prime)\n",
    "# 17+21=?\n",
    "print((17+21) % prime)\n",
    "# 29-4=?\n",
    "print((29-4) % prime)\n",
    "# 15-30=?\n",
    "print((15-30) % prime)"
   ]
  },
  {
   "cell_type": "code",
   "execution_count": 3,
   "metadata": {},
   "outputs": [
    {
     "name": "stderr",
     "output_type": "stream",
     "text": [
      ".\n",
      "----------------------------------------------------------------------\n",
      "Ran 1 test in 0.021s\n",
      "\n",
      "OK\n",
      ".\n",
      "----------------------------------------------------------------------\n",
      "Ran 1 test in 0.011s\n",
      "\n",
      "OK\n"
     ]
    }
   ],
   "source": [
    "# Exercise 1.2\n",
    "\n",
    "reload(ecc)\n",
    "run_test(ecc.FieldElementTest('test_add'))\n",
    "run_test(ecc.FieldElementTest('test_sub'))"
   ]
  },
  {
   "cell_type": "markdown",
   "metadata": {},
   "source": [
    "### Exercise 2\n",
    "\n",
    "#### 2.1. Solve these equations in F_31:\n",
    "\n",
    "```\n",
    "24*19=?\n",
    "17^3=?\n",
    "5^5*18=?\n",
    "```\n",
    "\n",
    "#### 2.2. Write a program to calculate `1*k`, `2*k`, `3*k`, ... `30*k` for some k in F_31.  Notice anything about these sets?\n",
    "\n",
    "#### 2.3. Write a program to calculate `k^30` for all k in F_31. Notice anything?\n",
    "\n",
    "#### 2.4. Make [these tests](/edit/session1/ecc.py) pass:\n",
    "```\n",
    "ecc.py:FieldElementTest:test_mul\n",
    "ecc.py:FieldElementTest:test_pow\n",
    "```"
   ]
  },
  {
   "cell_type": "code",
   "execution_count": 4,
   "metadata": {},
   "outputs": [
    {
     "name": "stdout",
     "output_type": "stream",
     "text": [
      "22\n",
      "15\n",
      "16\n"
     ]
    }
   ],
   "source": [
    "# Exercise 2.1\n",
    "\n",
    "# remember that ** is the exponentiation operator\n",
    "prime = 31\n",
    "# 24*19=?\n",
    "print(24*19 % prime)\n",
    "# 17^3=?\n",
    "print(17**3 % prime)\n",
    "# 5^5*18=?\n",
    "print(5**5*18 % prime)"
   ]
  },
  {
   "cell_type": "code",
   "execution_count": 5,
   "metadata": {},
   "outputs": [
    {
     "name": "stdout",
     "output_type": "stream",
     "text": [
      "[0, 1, 2, 3, 4, 5, 6, 7, 8, 9, 10, 11, 12, 13, 14, 15, 16, 17, 18, 19, 20, 21, 22, 23, 24, 25, 26, 27, 28, 29, 30]\n"
     ]
    }
   ],
   "source": [
    "# Exercise 2.2\n",
    "\n",
    "from random import randint\n",
    "\n",
    "# use range(31) to iterate over all numbers from 0 to 30 inclusive\n",
    "prime = 31\n",
    "k = randint(1,31)\n",
    "print(sorted([i*k % prime for i in range(31)]))"
   ]
  },
  {
   "cell_type": "code",
   "execution_count": 6,
   "metadata": {},
   "outputs": [
    {
     "name": "stdout",
     "output_type": "stream",
     "text": [
      "[1, 1, 1, 1, 1, 1, 1, 1, 1, 1, 1, 1, 1, 1, 1, 1, 1, 1, 1, 1, 1, 1, 1, 1, 1, 1, 1, 1, 1, 1]\n"
     ]
    }
   ],
   "source": [
    "# Exercise 2.3\n",
    "\n",
    "# use range(1, 31) to iterate over all numbers from 1 to 30 inclusive\n",
    "prime = 31\n",
    "print([i**30 % prime for i in range(1, 31)])"
   ]
  },
  {
   "cell_type": "code",
   "execution_count": 7,
   "metadata": {},
   "outputs": [
    {
     "name": "stderr",
     "output_type": "stream",
     "text": [
      ".\n",
      "----------------------------------------------------------------------\n",
      "Ran 1 test in 0.002s\n",
      "\n",
      "OK\n",
      ".\n",
      "----------------------------------------------------------------------\n",
      "Ran 1 test in 0.002s\n",
      "\n",
      "OK\n"
     ]
    }
   ],
   "source": [
    "# Exercise 2.4\n",
    "\n",
    "reload(ecc)\n",
    "run_test(ecc.FieldElementTest('test_mul'))\n",
    "run_test(ecc.FieldElementTest('test_pow'))"
   ]
  },
  {
   "cell_type": "markdown",
   "metadata": {},
   "source": [
    "### Exercise 3\n",
    "\n",
    "#### 3.1. Solve these equations in F_31:\n",
    "\n",
    "```\n",
    "3/24 = ?\n",
    "17^(-3) = ?\n",
    "4^(-4)*11 = ?\n",
    "```\n",
    "\n",
    "#### 3.2. Write a program to calculate `k/1`, `k/2`, `k/3`, ... `k/30` for some k in F_31. Notice anything about these sets?\n",
    "\n",
    "#### 3.3. Make [these tests](/edit/session1/ecc.py) pass:\n",
    "\n",
    "```\n",
    "ecc.py:FieldElementTest:test_div\n",
    "```"
   ]
  },
  {
   "cell_type": "code",
   "execution_count": 8,
   "metadata": {},
   "outputs": [
    {
     "name": "stdout",
     "output_type": "stream",
     "text": [
      "4\n",
      "29\n",
      "13\n"
     ]
    }
   ],
   "source": [
    "# Exercise 3.1\n",
    "\n",
    "# remember pow(x, p-2, p) is the same as 1/x in F_x\n",
    "prime = 31\n",
    "# 3/24 = ?\n",
    "print(3*24**(prime-2) % prime)\n",
    "# 17^(-3) = ?\n",
    "print(pow(17, prime-4, prime))\n",
    "# 4^(-4)*11 = ?\n",
    "print(pow(4, prime-5, prime) * 11 % prime)"
   ]
  },
  {
   "cell_type": "code",
   "execution_count": 9,
   "metadata": {},
   "outputs": [
    {
     "name": "stdout",
     "output_type": "stream",
     "text": [
      "[0, 1, 2, 3, 4, 5, 6, 7, 8, 9, 10, 11, 12, 13, 14, 15, 16, 17, 18, 19, 20, 21, 22, 23, 24, 25, 26, 27, 28, 29, 30]\n"
     ]
    }
   ],
   "source": [
    "# Exercise 3.2\n",
    "\n",
    "from random import randint\n",
    "\n",
    "# use range(31) to iterate over all numbers from 0 to 30 inclusive\n",
    "prime = 31\n",
    "k = randint(1, 31)\n",
    "print(sorted([i*pow(k,prime-2,prime)%prime for i in range(31)]))"
   ]
  },
  {
   "cell_type": "code",
   "execution_count": 10,
   "metadata": {},
   "outputs": [
    {
     "name": "stderr",
     "output_type": "stream",
     "text": [
      ".\n",
      "----------------------------------------------------------------------\n",
      "Ran 1 test in 0.005s\n",
      "\n",
      "OK\n"
     ]
    }
   ],
   "source": [
    "# Exercise 3.3\n",
    "\n",
    "reload(ecc)\n",
    "run_test(ecc.FieldElementTest('test_div'))\n",
    "\n",
    "# Hint: the __pow__ method needs a positive number for the exponent.\n",
    "# You can mod by p-1"
   ]
  },
  {
   "cell_type": "markdown",
   "metadata": {},
   "source": [
    "### Exercise 4\n",
    "\n",
    "#### 4.1. For the curve y^2 = x^3 + 5x + 7, which of these are on the curve?\n",
    "\n",
    "```\n",
    "(-2,4), (3,7), (18,77)\n",
    "```\n",
    "\n",
    "#### 4.2. Make [this test](/edit/session1/ecc.py) pass\n",
    "```\n",
    "ecc.py:PointTest:test_on_curve\n",
    "```"
   ]
  },
  {
   "cell_type": "code",
   "execution_count": 11,
   "metadata": {},
   "outputs": [
    {
     "name": "stdout",
     "output_type": "stream",
     "text": [
      "(-2,4) is not on the curve\n",
      "(3,7) is on the curve\n",
      "(18,77) is on the curve\n"
     ]
    }
   ],
   "source": [
    "# Exercise 4.1\n",
    "\n",
    "# (-2,4), (3,7), (18,77)\n",
    "# equation in python is: y**2 == x**3 + 5*x + 7\n",
    "\n",
    "points = ((-2,4), (3,7), (18,77))\n",
    "\n",
    "for x, y in points:\n",
    "    # determine whether (x,y) is on the curve\n",
    "    if y**2 == x**3 + 5*x + 7:\n",
    "        print('({},{}) is on the curve'.format(x,y))\n",
    "    else:\n",
    "        print('({},{}) is not on the curve'.format(x,y))"
   ]
  },
  {
   "cell_type": "code",
   "execution_count": 12,
   "metadata": {},
   "outputs": [
    {
     "name": "stderr",
     "output_type": "stream",
     "text": [
      ".\n",
      "----------------------------------------------------------------------\n",
      "Ran 1 test in 0.002s\n",
      "\n",
      "OK\n"
     ]
    }
   ],
   "source": [
    "# Exercise 4.2\n",
    "\n",
    "reload(ecc)\n",
    "run_test(ecc.PointTest('test_on_curve'))"
   ]
  },
  {
   "cell_type": "markdown",
   "metadata": {},
   "source": [
    "### Exercise 5\n",
    "\n",
    "#### 5.1. Make [this test](/edit/session1/ecc.py) pass\n",
    "```\n",
    "ecc.py:PointTest:test_add0\n",
    "```"
   ]
  },
  {
   "cell_type": "code",
   "execution_count": 13,
   "metadata": {},
   "outputs": [
    {
     "name": "stderr",
     "output_type": "stream",
     "text": [
      ".\n",
      "----------------------------------------------------------------------\n",
      "Ran 1 test in 0.017s\n",
      "\n",
      "OK\n"
     ]
    }
   ],
   "source": [
    "# Exercise 5.1\n",
    "\n",
    "reload(ecc)\n",
    "run_test(ecc.PointTest('test_add0'))"
   ]
  },
  {
   "cell_type": "markdown",
   "metadata": {},
   "source": [
    "### Exercise 6\n",
    "\n",
    "#### 6.1. For the curve y^2 = x^3 + 5x + 7, what is (2,5) + (-1,-1)?\n",
    "\n",
    "#### 6.2. Make [this test](/edit/session1/ecc.py) pass\n",
    "```\n",
    "ecc.py:PointTest:test_add1\n",
    "```"
   ]
  },
  {
   "cell_type": "code",
   "execution_count": 14,
   "metadata": {},
   "outputs": [
    {
     "name": "stdout",
     "output_type": "stream",
     "text": [
      "3.0 -7.0\n"
     ]
    }
   ],
   "source": [
    "# Exercise 6.1\n",
    "\n",
    "x1, y1 = (2,5)\n",
    "x2, y2 = (-1,-1)\n",
    "# formula in python:\n",
    "# s = (y2-y1)/(x2-x1)\n",
    "s = (y2-y1)/(x2-x1)\n",
    "# x3 = s**2 - x2 - x1\n",
    "x3 = s**2 - x2 - x1\n",
    "# y3 = s*(x1-x3)-y1\n",
    "y3 = s*(x1-x3) - y1\n",
    "\n",
    "print(x3, y3)"
   ]
  },
  {
   "cell_type": "code",
   "execution_count": 15,
   "metadata": {},
   "outputs": [
    {
     "name": "stderr",
     "output_type": "stream",
     "text": [
      ".\n",
      "----------------------------------------------------------------------\n",
      "Ran 1 test in 0.008s\n",
      "\n",
      "OK\n"
     ]
    }
   ],
   "source": [
    "# Exercise 6.2\n",
    "\n",
    "reload(ecc)\n",
    "run_test(ecc.PointTest('test_add1'))"
   ]
  },
  {
   "cell_type": "markdown",
   "metadata": {},
   "source": [
    "### Exercise 7\n",
    "\n",
    "#### 7.1. For the curve y^2 = x^3 + 5x + 7, what is (-1,1) + (-1,1)?\n",
    "\n",
    "#### 7.2. Make [this test](/edit/session1/ecc.py) pass\n",
    "```\n",
    "ecc.py:PointTest:test_add2\n",
    "```"
   ]
  },
  {
   "cell_type": "code",
   "execution_count": 16,
   "metadata": {},
   "outputs": [
    {
     "name": "stdout",
     "output_type": "stream",
     "text": [
      "18.0 77.0\n"
     ]
    }
   ],
   "source": [
    "# Exercise 7.1\n",
    "\n",
    "a, b = 5, 7\n",
    "x1, y1 = -1, -1\n",
    "\n",
    "# formula in python\n",
    "# s = (3*x1**2+a)/(2*y1)\n",
    "s = (3*x1**2+a)/(2*y1)\n",
    "# x3 = s**2 - 2*x1\n",
    "x3 = s**2 - 2*x1\n",
    "# y3 = s*(x1-x3) - y1\n",
    "y3 = s*(x1-x3) - y1\n",
    "\n",
    "print(x3, y3)"
   ]
  },
  {
   "cell_type": "code",
   "execution_count": 17,
   "metadata": {},
   "outputs": [
    {
     "name": "stderr",
     "output_type": "stream",
     "text": [
      ".\n",
      "----------------------------------------------------------------------\n",
      "Ran 1 test in 0.005s\n",
      "\n",
      "OK\n"
     ]
    }
   ],
   "source": [
    "# Exercise 7.2\n",
    "\n",
    "reload(ecc)\n",
    "run_test(ecc.PointTest('test_add2'))"
   ]
  }
 ],
 "metadata": {
  "kernelspec": {
   "display_name": "Python 3",
   "language": "python",
   "name": "python3"
  },
  "language_info": {
   "codemirror_mode": {
    "name": "ipython",
    "version": 3
   },
   "file_extension": ".py",
   "mimetype": "text/x-python",
   "name": "python",
   "nbconvert_exporter": "python",
   "pygments_lexer": "ipython3",
   "version": "3.5.2"
  }
 },
 "nbformat": 4,
 "nbformat_minor": 2
}
