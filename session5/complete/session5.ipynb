{
 "cells": [
  {
   "cell_type": "code",
   "execution_count": 1,
   "id": "520ca89d",
   "metadata": {},
   "outputs": [],
   "source": [
    "############## PLEASE RUN THIS CELL FIRST! ###################\n",
    "\n",
    "# import everything and define a test runner function\n",
    "from importlib import reload\n",
    "from helper import run\n",
    "import helper, op, script, tx"
   ]
  },
  {
   "cell_type": "markdown",
   "id": "b443d753",
   "metadata": {},
   "source": [
    "### Exercise 1\n",
    "\n",
    "\n",
    "\n",
    "\n",
    "#### Make [this test](/edit/session5/tx.py) pass: `tx.py:TxTest:test_verify_p2pkh`"
   ]
  },
  {
   "cell_type": "code",
   "execution_count": 2,
   "id": "99be8bfc",
   "metadata": {},
   "outputs": [
    {
     "name": "stderr",
     "output_type": "stream",
     "text": [
      ".\n",
      "----------------------------------------------------------------------\n",
      "Ran 1 test in 0.206s\n",
      "\n",
      "OK\n"
     ]
    }
   ],
   "source": [
    "# Exercise 1\n",
    "\n",
    "reload(tx)\n",
    "run(tx.TxTest('test_verify_p2pkh'))"
   ]
  },
  {
   "cell_type": "code",
   "execution_count": 3,
   "id": "e1049b79",
   "metadata": {},
   "outputs": [
    {
     "name": "stdout",
     "output_type": "stream",
     "text": [
      "0100000001ff5cf6387deac5a25e72ebb753d6adfa487fbac4d5996731213349546a96ae95000000006a47304402204d7c693a6b7378795e005c25aac80b4beb4519903938614568d48d18bff7d88b0220269ad2ad8acb65ac68505bd9a92e43f5dd4e0011446802cdf6ccf71a4a03c481012103935581e52c354cd2f484fe8ed83af7a3097005b2f9c60bff71d35bd795f54b67ffffffff0240933402000000001976a914d52ad7ca9b3d096a38e752c2018e6fbc40cdf26f88ac80969800000000001976a914507b27411ccf7f16f10297de6cef3f291623eddf88ac00000000\n"
     ]
    }
   ],
   "source": [
    "# Transaction Construction Example\n",
    "from ecc import PrivateKey\n",
    "from helper import decode_base58, SIGHASH_ALL\n",
    "from script import p2pkh_script, Script\n",
    "from tx import Tx, TxIn, TxOut\n",
    "# Step 1\n",
    "tx_ins = []\n",
    "prev_tx = bytes.fromhex('95ae966a54493321316799d5c4ba7f48faadd653b7eb725ea2c5ea7d38f65cff')\n",
    "prev_index = 0\n",
    "tx_ins.append(TxIn(prev_tx, prev_index))\n",
    "# Step 2\n",
    "tx_outs = []\n",
    "h160 = decode_base58('mzx5YhAH9kNHtcN481u6WkjeHjYtVeKVh2')\n",
    "tx_outs.append(TxOut(\n",
    "    amount=int(0.37*100000000),\n",
    "    script_pubkey=p2pkh_script(h160),\n",
    "))\n",
    "h160 = decode_base58('mnrVtF8DWjMu839VW3rBfgYaAfKk8983Xf')\n",
    "tx_outs.append(TxOut(\n",
    "    amount=int(0.1*100000000),\n",
    "    script_pubkey=p2pkh_script(h160),\n",
    "))\n",
    "tx_obj = Tx(1, tx_ins, tx_outs, 0, network=\"signet\")\n",
    "# Step 3\n",
    "z = tx_obj.sig_hash(0)\n",
    "pk = PrivateKey(secret=8675309)\n",
    "der = pk.sign(z).der()\n",
    "sig = der + SIGHASH_ALL.to_bytes(1, 'big')\n",
    "sec = pk.point.sec()\n",
    "tx_obj.tx_ins[0].script_sig = Script([sig, sec])\n",
    "print(tx_obj.serialize().hex())"
   ]
  },
  {
   "cell_type": "markdown",
   "id": "ac3ff5f7",
   "metadata": {},
   "source": [
    "### Exercise 2\n",
    "\n",
    "\n",
    "\n",
    "\n",
    "#### Make [this test](/edit/session5/tx.py) pass: `tx.py:TxTest:test_sign_input`"
   ]
  },
  {
   "cell_type": "code",
   "execution_count": 4,
   "id": "6c5e2d30",
   "metadata": {},
   "outputs": [
    {
     "name": "stderr",
     "output_type": "stream",
     "text": [
      ".\n",
      "----------------------------------------------------------------------\n",
      "Ran 1 test in 0.156s\n",
      "\n",
      "OK\n"
     ]
    }
   ],
   "source": [
    "# Exercise 2\n",
    "\n",
    "reload(tx)\n",
    "run(tx.TxTest('test_sign_input'))"
   ]
  },
  {
   "cell_type": "markdown",
   "id": "aba4ea16",
   "metadata": {},
   "source": [
    "### Exercise 3\n",
    "You have been sent 100,000 Sats on the Signet network. Send 40,000 Sats to this address: `mqYz6JpuKukHzPg94y4XNDdPCEJrNkLQcv` and send the rest back to yourself.\n",
    "\n",
    "#### Send your transaction here: https://mempool.space/signet/tx/push\n"
   ]
  },
  {
   "cell_type": "code",
   "execution_count": 5,
   "id": "9f8e18dc",
   "metadata": {},
   "outputs": [
    {
     "name": "stdout",
     "output_type": "stream",
     "text": [
      "0100000001293ae7c49765197eb04d9fced9199ae91ea058abf8469ce9ae03015d42dc87d4000000006b483045022100a906b77d1ed8e698a843800ec6a74e357687b0905b71eb2c75cb86b842305d6602203f3c50b5dd9375d3a9987f0742b2d50737447973252afccce561261afb2f804e012103dc585d46cfca73f3a75ba1ef0c5756a21c1924587480700c6eb64e3f75d22083ffffffff02409c0000000000001976a9146e13971913b9aa89659a9f53d327baa8826f2d7588ac34e90000000000001976a914850af0029eb376691c3eef244c25eceb4e50c50388ac00000000\n"
     ]
    }
   ],
   "source": [
    "# Exercise 3\n",
    "\n",
    "from tx import Tx, TxIn, TxOut\n",
    "from helper import decode_base58, hash256, little_endian_to_int\n",
    "from script import p2pkh_script\n",
    "prev_tx = bytes.fromhex('d487dc425d0103aee99c46f8ab58a01ee99a19d9ce9f4db07e196597c4e73a29')\n",
    "prev_index = 0\n",
    "target_address = 'mqYz6JpuKukHzPg94y4XNDdPCEJrNkLQcv'\n",
    "target_amount = 40000\n",
    "fee = 300\n",
    "passphrase = b'Jimmy Song'\n",
    "secret = little_endian_to_int(hash256(passphrase))\n",
    "private_key = PrivateKey(secret=secret)\n",
    "change_address = private_key.point.address(network=\"signet\")\n",
    "# initialize inputs\n",
    "tx_ins = []\n",
    "# create a new tx input with prev_tx, prev_index\n",
    "tx_ins.append(TxIn(prev_tx, prev_index))\n",
    "# initialize outputs\n",
    "tx_outs = []\n",
    "# decode the hash160 from the target address\n",
    "target_h160 = decode_base58(target_address)\n",
    "# convert hash160 to p2pkh script\n",
    "target_script_pubkey = p2pkh_script(target_h160)\n",
    "# create a new tx output for target with amount and script_pubkey\n",
    "tx_outs.append(TxOut(target_amount, target_script_pubkey))\n",
    "# decode the hash160 from the change address\n",
    "change_h160 = decode_base58(change_address)\n",
    "# convert hash160 to p2pkh script\n",
    "change_script_pubkey = p2pkh_script(change_h160)\n",
    "# get the value for the transaction input (remember network=\"signet\")\n",
    "prev_amount = tx_ins[0].value(network=\"signet\")\n",
    "# calculate change_amount based on previous amount, target_amount & fee\n",
    "change_amount = prev_amount - target_amount - fee\n",
    "# create a new tx output for change with amount and script_pubkey\n",
    "tx_outs.append(TxOut(change_amount, change_script_pubkey))\n",
    "# create the transaction (name it tx_obj and set network=\"signet\")\n",
    "tx_obj = Tx(1, tx_ins, tx_outs, 0, network=\"signet\")\n",
    "# now sign the 0th input with the private_key using sign_input\n",
    "tx_obj.sign_input(0, private_key)\n",
    "# SANITY CHECK: change address corresponds to private key\n",
    "if private_key.point.address(network=\"signet\") != change_address:\n",
    "    raise RuntimeError('Private Key does not correspond to Change Address, check priv_key and change_address')\n",
    "# SANITY CHECK: output's script_pubkey is the same one as your address\n",
    "if tx_ins[0].script_pubkey(network=\"signet\").commands[2] != decode_base58(change_address):\n",
    "    raise RuntimeError('Output is not something you can spend with this private key. Check that the prev_tx and prev_index are correct')\n",
    "# SANITY CHECK: fee is reasonable\n",
    "if tx_obj.fee() > 100000 or tx_obj.fee() <= 0:\n",
    "    raise RuntimeError(f'Check that the change amount is reasonable. Fee is {tx_obj.fee()}')\n",
    "# serialize and hex()\n",
    "print(tx_obj.serialize().hex())"
   ]
  },
  {
   "cell_type": "markdown",
   "id": "77cf1f11",
   "metadata": {},
   "source": [
    "### Exercise 4\n",
    "#### Bonus Question. Only attempt if you've finished Exercise 3 and have time to try it.\n",
    "\n",
    "Get some signet coins from a faucet and spend both outputs (one from your change address and one from the signet faucet) to\n",
    "\n",
    "`mqYz6JpuKukHzPg94y4XNDdPCEJrNkLQcv`\n",
    "\n",
    "#### You can get some free signet coins at: https://signet.bc-2.jp/\n"
   ]
  },
  {
   "cell_type": "code",
   "execution_count": 6,
   "id": "c5619c94",
   "metadata": {},
   "outputs": [
    {
     "name": "stdout",
     "output_type": "stream",
     "text": [
      "0100000002cf6a57c26cab9e8f766104619eb0ea14fc059b5211891fc6367c29331fd1cfc2010000006b4830450221008447b4947a3014fffba1891d919d3997160b600b472242d1a92d5c009ec10efa02206f83e0f39272ac930d77f24ffa3bb062d3b6bcce26eb0c772d7f37efc41e0fcb012103dc585d46cfca73f3a75ba1ef0c5756a21c1924587480700c6eb64e3f75d22083ffffffff39e2a5af028f9a24d45955c932eba003220ddb9653b8847ba8b32e2fa5418936000000006b483045022100d688db2df75d4f9789d0a239c1aad58be12fa3d8d3622f4b67b57f7873a03e7a02206945042112cefe8bf337c925ee8f3c2d83341ead81450149271582d4cc522b5a012103dc585d46cfca73f3a75ba1ef0c5756a21c1924587480700c6eb64e3f75d22083ffffffff01446e0200000000001976a9146e13971913b9aa89659a9f53d327baa8826f2d7588ac00000000\n"
     ]
    }
   ],
   "source": [
    "# Exercise 4\n",
    "\n",
    "# Bonus\n",
    "from tx import Tx, TxIn, TxOut\n",
    "from helper import decode_base58, hash256, little_endian_to_int\n",
    "from script import p2pkh_script\n",
    "prev_tx_1 = bytes.fromhex('c2cfd11f33297c36c61f8911529b05fc14eab09e610461768f9eab6cc2576acf')\n",
    "prev_index_1 = 1\n",
    "prev_tx_2 = bytes.fromhex('368941a52f2eb3a87b84b85396db0d2203a0eb32c95559d4249a8f02afa5e239')\n",
    "prev_index_2 = 0\n",
    "target_address = 'mqYz6JpuKukHzPg94y4XNDdPCEJrNkLQcv'\n",
    "fee = 400\n",
    "passphrase = b'Jimmy Song'\n",
    "secret = little_endian_to_int(hash256(passphrase))\n",
    "private_key = PrivateKey(secret=secret)\n",
    "# initialize inputs\n",
    "tx_ins = []\n",
    "# create the first tx input with prev_tx_1, prev_index_1\n",
    "tx_ins.append(TxIn(prev_tx_1, prev_index_1))\n",
    "# create the second tx input with prev_tx_2, prev_index_2\n",
    "tx_ins.append(TxIn(prev_tx_2, prev_index_2))\n",
    "# initialize outputs\n",
    "tx_outs = []\n",
    "# decode the hash160 from the target address\n",
    "h160 = decode_base58(target_address)\n",
    "# convert hash160 to p2pkh script\n",
    "script_pubkey = p2pkh_script(h160)\n",
    "# calculate target amount by adding the input values and subtracting the fee\n",
    "target_satoshis = tx_ins[0].value(network=\"signet\") + tx_ins[1].value(network=\"signet\") - fee\n",
    "# create a single tx output for target with amount and script_pubkey\n",
    "tx_outs.append(TxOut(target_satoshis, script_pubkey))\n",
    "# create the transaction\n",
    "tx_obj = Tx(1, tx_ins, tx_outs, 0, network=\"signet\")\n",
    "# sign both inputs with the private key using sign_input\n",
    "tx_obj.sign_input(0, private_key)\n",
    "tx_obj.sign_input(1, private_key)\n",
    "# SANITY CHECK: output's script_pubkey is the same one as your address\n",
    "if tx_ins[0].script_pubkey(network=\"signet\").commands[2] != decode_base58(private_key.point.address(network=\"signet\")):\n",
    "    raise RuntimeError('Output is not something you can spend with this private key. Check that the prev_tx and prev_index are correct')\n",
    "# SANITY CHECK: fee is reasonable\n",
    "if tx_obj.fee() > 100000 or tx_obj.fee() <= 0:\n",
    "    raise RuntimeError('Check that the change amount is reasonable. Fee is {tx_obj.fee()}')\n",
    "# serialize and hex()\n",
    "print(tx_obj.serialize().hex())"
   ]
  },
  {
   "cell_type": "code",
   "execution_count": 7,
   "id": "f0c066ec",
   "metadata": {},
   "outputs": [],
   "source": [
    "# op_checkmultisig\n",
    "def op_checkmultisig(stack, z):\n",
    "    if len(stack) < 1:\n",
    "        return False\n",
    "    n = decode_num(stack.pop())\n",
    "    if len(stack) < n + 1:\n",
    "        return False\n",
    "    sec_pubkeys = []\n",
    "    for _ in range(n):\n",
    "        sec_pubkeys.append(stack.pop())\n",
    "    m = decode_num(stack.pop())\n",
    "    if len(stack) < m + 1:\n",
    "        return False\n",
    "    der_signatures = []\n",
    "    for _ in range(m):\n",
    "        # signature is assumed to be using SIGHASH_ALL\n",
    "        der_signatures.append(stack.pop()[:-1])\n",
    "    # OP_CHECKMULTISIG bug\n",
    "    stack.pop()\n",
    "    try:\n",
    "        raise NotImplementedError\n",
    "    except (ValueError, SyntaxError):\n",
    "        return False\n",
    "    return True"
   ]
  },
  {
   "cell_type": "markdown",
   "id": "b21baaee",
   "metadata": {},
   "source": [
    "### Exercise 5\n",
    "\n",
    "\n",
    "\n",
    "\n",
    "#### Make [this test](/edit/session5/op.py) pass: `op.py:OpTest:test_op_checkmultisig`"
   ]
  },
  {
   "cell_type": "code",
   "execution_count": 8,
   "id": "2dccb547",
   "metadata": {},
   "outputs": [
    {
     "name": "stderr",
     "output_type": "stream",
     "text": [
      ".\n",
      "----------------------------------------------------------------------\n",
      "Ran 1 test in 0.206s\n",
      "\n",
      "OK\n"
     ]
    }
   ],
   "source": [
    "# Exercise 5\n",
    "\n",
    "reload(op)\n",
    "reload(script)\n",
    "run(op.OpTest('test_op_checkmultisig'))"
   ]
  },
  {
   "cell_type": "markdown",
   "id": "d58366fe",
   "metadata": {},
   "source": [
    "### Exercise 6\n",
    "Find the hash160 of the RedeemScript\n",
    "```\n",
    "5221022626e955ea6ea6d98850c994f9107b036b1334f18ca8830bfff1295d21cfdb702103b287eaf122eea69030a0e9feed096bed8045c8b98bec453e1ffac7fbdbd4bb7152ae\n",
    "```\n"
   ]
  },
  {
   "cell_type": "code",
   "execution_count": 9,
   "id": "2a8d2148",
   "metadata": {},
   "outputs": [
    {
     "name": "stdout",
     "output_type": "stream",
     "text": [
      "74d691da1574e6b3c192ecfb52cc8984ee7b6c56\n"
     ]
    }
   ],
   "source": [
    "# Exercise 6\n",
    "\n",
    "from helper import hash160\n",
    "hex_redeem_script = '5221022626e955ea6ea6d98850c994f9107b036b1334f18ca8830bfff1295d21cfdb702103b287eaf122eea69030a0e9feed096bed8045c8b98bec453e1ffac7fbdbd4bb7152ae'\n",
    "# bytes.fromhex script\n",
    "redeem_script = bytes.fromhex(hex_redeem_script)\n",
    "# hash160 result\n",
    "h160 = hash160(redeem_script)\n",
    "# hex() to display\n",
    "print(h160.hex())"
   ]
  },
  {
   "cell_type": "code",
   "execution_count": 10,
   "id": "4fd483ec",
   "metadata": {},
   "outputs": [
    {
     "name": "stdout",
     "output_type": "stream",
     "text": [
      "3CLoMMyuoDQTPRD3XYZtCvgvkadrAdvdXh\n"
     ]
    }
   ],
   "source": [
    "# P2SH address construction example\n",
    "from helper import encode_base58_checksum\n",
    "print(encode_base58_checksum(b'\\x05'+bytes.fromhex('74d691da1574e6b3c192ecfb52cc8984ee7b6c56')))"
   ]
  },
  {
   "cell_type": "markdown",
   "id": "540dbade",
   "metadata": {},
   "source": [
    "### Exercise 7\n",
    "\n",
    "\n",
    "\n",
    "\n",
    "#### Make [this test](/edit/session5/helper.py) pass: `helper.py:HelperTest:test_p2pkh_address`"
   ]
  },
  {
   "cell_type": "code",
   "execution_count": 11,
   "id": "8d98c57e",
   "metadata": {},
   "outputs": [
    {
     "name": "stderr",
     "output_type": "stream",
     "text": [
      ".\n",
      "----------------------------------------------------------------------\n",
      "Ran 1 test in 0.000s\n",
      "\n",
      "OK\n"
     ]
    }
   ],
   "source": [
    "# Exercise 7\n",
    "\n",
    "reload(helper)\n",
    "run(helper.HelperTest('test_p2pkh_address'))"
   ]
  },
  {
   "cell_type": "markdown",
   "id": "b967cbea",
   "metadata": {},
   "source": [
    "### Exercise 8\n",
    "\n",
    "\n",
    "\n",
    "\n",
    "#### Make [this test](/edit/session5/helper.py) pass: `helper.py:HelperTest:test_p2sh_address`"
   ]
  },
  {
   "cell_type": "code",
   "execution_count": 12,
   "id": "5b631495",
   "metadata": {},
   "outputs": [
    {
     "name": "stderr",
     "output_type": "stream",
     "text": [
      ".\n",
      "----------------------------------------------------------------------\n",
      "Ran 1 test in 0.000s\n",
      "\n",
      "OK\n"
     ]
    }
   ],
   "source": [
    "# Exercise 8\n",
    "\n",
    "reload(helper)\n",
    "run(helper.HelperTest('test_p2sh_address'))"
   ]
  },
  {
   "cell_type": "markdown",
   "id": "8bbc04be",
   "metadata": {},
   "source": [
    "### Exercise 9\n",
    "\n",
    "\n",
    "\n",
    "\n",
    "#### Make [this test](/edit/session5/script.py) pass: `script.py:ScriptTest:test_address`"
   ]
  },
  {
   "cell_type": "code",
   "execution_count": 13,
   "id": "f4c0c7b9",
   "metadata": {},
   "outputs": [
    {
     "name": "stderr",
     "output_type": "stream",
     "text": [
      ".\n",
      "----------------------------------------------------------------------\n",
      "Ran 1 test in 0.000s\n",
      "\n",
      "OK\n"
     ]
    }
   ],
   "source": [
    "# Exercise 9\n",
    "\n",
    "reload(script)\n",
    "run(script.ScriptTest('test_address'))"
   ]
  },
  {
   "cell_type": "code",
   "execution_count": 14,
   "id": "479ad1ec",
   "metadata": {},
   "outputs": [
    {
     "name": "stdout",
     "output_type": "stream",
     "text": [
      "0xe71bfa115715d6fd33796948126f40a8cdd39f187e4afb03896795189fe1423c\n"
     ]
    }
   ],
   "source": [
    "# z for p2sh example\n",
    "from helper import hash256\n",
    "h256 = hash256(bytes.fromhex('0100000001868278ed6ddfb6c1ed3ad5f8181eb0c7a385aa0836f01d5e4789e6bd304d87221a000000475221022626e955ea6ea6d98850c994f9107b036b1334f18ca8830bfff1295d21cfdb702103b287eaf122eea69030a0e9feed096bed8045c8b98bec453e1ffac7fbdbd4bb7152aeffffffff04d3b11400000000001976a914904a49878c0adfc3aa05de7afad2cc15f483a56a88ac7f400900000000001976a914418327e3f3dda4cf5b9089325a4b95abdfa0334088ac722c0c00000000001976a914ba35042cfe9fc66fd35ac2224eebdafd1028ad2788acdc4ace020000000017a91474d691da1574e6b3c192ecfb52cc8984ee7b6c56870000000001000000'))\n",
    "z = int.from_bytes(h256, 'big')\n",
    "print(hex(z))"
   ]
  },
  {
   "cell_type": "code",
   "execution_count": 15,
   "id": "087a1993",
   "metadata": {},
   "outputs": [
    {
     "name": "stdout",
     "output_type": "stream",
     "text": [
      "True\n"
     ]
    }
   ],
   "source": [
    "# p2sh verification example\n",
    "from ecc import S256Point, Signature\n",
    "from helper import hash256\n",
    "h256 = hash256(bytes.fromhex('0100000001868278ed6ddfb6c1ed3ad5f8181eb0c7a385aa0836f01d5e4789e6bd304d87221a000000475221022626e955ea6ea6d98850c994f9107b036b1334f18ca8830bfff1295d21cfdb702103b287eaf122eea69030a0e9feed096bed8045c8b98bec453e1ffac7fbdbd4bb7152aeffffffff04d3b11400000000001976a914904a49878c0adfc3aa05de7afad2cc15f483a56a88ac7f400900000000001976a914418327e3f3dda4cf5b9089325a4b95abdfa0334088ac722c0c00000000001976a914ba35042cfe9fc66fd35ac2224eebdafd1028ad2788acdc4ace020000000017a91474d691da1574e6b3c192ecfb52cc8984ee7b6c56870000000001000000'))\n",
    "z = int.from_bytes(h256, 'big')\n",
    "point = S256Point.parse(bytes.fromhex('022626e955ea6ea6d98850c994f9107b036b1334f18ca8830bfff1295d21cfdb70'))\n",
    "sig = Signature.parse(bytes.fromhex('3045022100dc92655fe37036f47756db8102e0d7d5e28b3beb83a8fef4f5dc0559bddfb94e02205a36d4e4e6c7fcd16658c50783e00c341609977aed3ad00937bf4ee942a89937'))\n",
    "print(point.verify(z, sig))"
   ]
  },
  {
   "cell_type": "markdown",
   "id": "e22a77b4",
   "metadata": {},
   "source": [
    "### Exercise 10\n",
    "Validate the second signature of the first input\n",
    "\n",
    "```\n",
    "0100000001868278ed6ddfb6c1ed3ad5f8181eb0c7a385aa0836f01d5e4789e6bd304d87221a000000db00483045022100dc92655fe37036f47756db8102e0d7d5e28b3beb83a8fef4f5dc0559bddfb94e02205a36d4e4e6c7fcd16658c50783e00c341609977aed3ad00937bf4ee942a8993701483045022100da6bee3c93766232079a01639d07fa869598749729ae323eab8eef53577d611b02207bef15429dcadce2121ea07f233115c6f09034c0be68db99980b9a6c5e75402201475221022626e955ea6ea6d98850c994f9107b036b1334f18ca8830bfff1295d21cfdb702103b287eaf122eea69030a0e9feed096bed8045c8b98bec453e1ffac7fbdbd4bb7152aeffffffff04d3b11400000000001976a914904a49878c0adfc3aa05de7afad2cc15f483a56a88ac7f400900000000001976a914418327e3f3dda4cf5b9089325a4b95abdfa0334088ac722c0c00000000001976a914ba35042cfe9fc66fd35ac2224eebdafd1028ad2788acdc4ace020000000017a91474d691da1574e6b3c192ecfb52cc8984ee7b6c568700000000\n",
    "```\n",
    "\n",
    "The sec pubkey of the second signature is:\n",
    "```\n",
    "03b287eaf122eea69030a0e9feed096bed8045c8b98bec453e1ffac7fbdbd4bb71\n",
    "```\n",
    "\n",
    "The der signature of the second signature is:\n",
    "```\n",
    "3045022100da6bee3c93766232079a01639d07fa869598749729ae323eab8eef53577d611b02207bef15429dcadce2121ea07f233115c6f09034c0be68db99980b9a6c5e75402201475221022\n",
    "```\n",
    "\n",
    "The redeemScript is:\n",
    "```\n",
    "475221022626e955ea6ea6d98850c994f9107b036b1334f18ca8830bfff1295d21cfdb702103b287eaf122eea69030a0e9feed096bed8045c8b98bec453e1ffac7fbdbd4bb7152ae\n",
    "```\n"
   ]
  },
  {
   "cell_type": "code",
   "execution_count": 16,
   "id": "e6b7ed4c",
   "metadata": {},
   "outputs": [
    {
     "name": "stdout",
     "output_type": "stream",
     "text": [
      "True\n"
     ]
    }
   ],
   "source": [
    "# Exercise 10\n",
    "\n",
    "from io import BytesIO\n",
    "from ecc import S256Point, Signature\n",
    "from helper import int_to_little_endian, SIGHASH_ALL\n",
    "from script import Script\n",
    "from tx import Tx\n",
    "hex_sec = '03b287eaf122eea69030a0e9feed096bed8045c8b98bec453e1ffac7fbdbd4bb71'\n",
    "hex_der = '3045022100da6bee3c93766232079a01639d07fa869598749729ae323eab8eef53577d611b02207bef15429dcadce2121ea07f233115c6f09034c0be68db99980b9a6c5e754022'\n",
    "hex_redeem_script = '475221022626e955ea6ea6d98850c994f9107b036b1334f18ca8830bfff1295d21cfdb702103b287eaf122eea69030a0e9feed096bed8045c8b98bec453e1ffac7fbdbd4bb7152ae'\n",
    "sec = bytes.fromhex(hex_sec)\n",
    "der = bytes.fromhex(hex_der)\n",
    "redeem_script_stream = BytesIO(bytes.fromhex(hex_redeem_script))\n",
    "redeem_script = Script.parse(redeem_script_stream)\n",
    "hex_tx = '0100000001868278ed6ddfb6c1ed3ad5f8181eb0c7a385aa0836f01d5e4789e6bd304d87221a000000db00483045022100dc92655fe37036f47756db8102e0d7d5e28b3beb83a8fef4f5dc0559bddfb94e02205a36d4e4e6c7fcd16658c50783e00c341609977aed3ad00937bf4ee942a8993701483045022100da6bee3c93766232079a01639d07fa869598749729ae323eab8eef53577d611b02207bef15429dcadce2121ea07f233115c6f09034c0be68db99980b9a6c5e75402201475221022626e955ea6ea6d98850c994f9107b036b1334f18ca8830bfff1295d21cfdb702103b287eaf122eea69030a0e9feed096bed8045c8b98bec453e1ffac7fbdbd4bb7152aeffffffff04d3b11400000000001976a914904a49878c0adfc3aa05de7afad2cc15f483a56a88ac7f400900000000001976a914418327e3f3dda4cf5b9089325a4b95abdfa0334088ac722c0c00000000001976a914ba35042cfe9fc66fd35ac2224eebdafd1028ad2788acdc4ace020000000017a91474d691da1574e6b3c192ecfb52cc8984ee7b6c568700000000'\n",
    "stream = BytesIO(bytes.fromhex(hex_tx))\n",
    "# parse the S256Point and Signature\n",
    "point = S256Point.parse(sec)\n",
    "sig = Signature.parse(der)\n",
    "# parse the Tx\n",
    "t = Tx.parse(stream)\n",
    "# change the first input's ScriptSig to RedeemScript\n",
    "t.tx_ins[0].script_sig = redeem_script\n",
    "# get the serialization\n",
    "ser = t.serialize()\n",
    "# add the sighash (4 bytes, little-endian of SIGHASH_ALL)\n",
    "ser += int_to_little_endian(SIGHASH_ALL, 4)\n",
    "# hash256 the result\n",
    "h256 = hash256(ser)\n",
    "# your z is the hash256 as a big-endian number: use int.from_bytes(x, 'big')\n",
    "z = int.from_bytes(h256, 'big')\n",
    "# now verify the signature using point.verify\n",
    "print(point.verify(z, sig))"
   ]
  }
 ],
 "metadata": {
  "kernelspec": {
   "display_name": "Python 3 (ipykernel)",
   "language": "python",
   "name": "python3"
  },
  "language_info": {
   "codemirror_mode": {
    "name": "ipython",
    "version": 3
   },
   "file_extension": ".py",
   "mimetype": "text/x-python",
   "name": "python",
   "nbconvert_exporter": "python",
   "pygments_lexer": "ipython3",
   "version": "3.11.3"
  }
 },
 "nbformat": 4,
 "nbformat_minor": 5
}
